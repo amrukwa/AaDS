{
  "nbformat": 4,
  "nbformat_minor": 0,
  "metadata": {
    "colab": {
      "name": "Fast sorting algorithms.ipynb",
      "provenance": [],
      "collapsed_sections": [
        "PXqCSWaq8OEN"
      ]
    },
    "kernelspec": {
      "name": "python3",
      "display_name": "Python 3"
    },
    "language_info": {
      "name": "python"
    }
  },
  "cells": [
    {
      "cell_type": "markdown",
      "source": [
        "Anna Mrukwa  \n",
        "Makrokierunek sem. 6"
      ],
      "metadata": {
        "id": "HVg-N5W6Rfbu"
      }
    },
    {
      "cell_type": "code",
      "source": [
        "import numpy as np\n",
        "import pandas as pd\n",
        "from time import time\n",
        "import math"
      ],
      "metadata": {
        "id": "1-bRWZHC59UJ"
      },
      "execution_count": 1,
      "outputs": []
    },
    {
      "cell_type": "markdown",
      "source": [
        "# Arrays preparation"
      ],
      "metadata": {
        "id": "PXqCSWaq8OEN"
      }
    },
    {
      "cell_type": "code",
      "source": [
        "def check_if_sorted(arr):\n",
        "  n = len(arr)\n",
        "  i = 1\n",
        "  is_sorted = 1\n",
        "  while (i < n) & is_sorted:\n",
        "    if arr[i - 1] > arr[i]:\n",
        "      is_sorted = 0\n",
        "      break\n",
        "    i += 1\n",
        "  return is_sorted"
      ],
      "metadata": {
        "id": "OSvbyH8a8WOx"
      },
      "execution_count": 2,
      "outputs": []
    },
    {
      "cell_type": "code",
      "source": [
        "int_arr_size = [5, 80, 160, 320, 640, 900]\n",
        "str_arr_size = [5, 20, 40, 80, 160, 320]"
      ],
      "metadata": {
        "id": "sfIspDbS8MT6"
      },
      "execution_count": 3,
      "outputs": []
    },
    {
      "cell_type": "code",
      "source": [
        "int_arrs = []\n",
        "\n",
        "for size in int_arr_size:\n",
        "  x = np.random.choice(range(1000000), size, replace=False)\n",
        "  int_arrs.append(x)"
      ],
      "metadata": {
        "id": "3TEYxU5B8MQ1"
      },
      "execution_count": 4,
      "outputs": []
    },
    {
      "cell_type": "code",
      "source": [
        "from google.colab import drive\n",
        "drive.mount('/content/drive')\n"
      ],
      "metadata": {
        "id": "SsguPhbR8YsB",
        "colab": {
          "base_uri": "https://localhost:8080/"
        },
        "outputId": "835748dc-372d-493b-d58a-c737f4581a27"
      },
      "execution_count": 5,
      "outputs": [
        {
          "output_type": "stream",
          "name": "stdout",
          "text": [
            "Drive already mounted at /content/drive; to attempt to forcibly remount, call drive.mount(\"/content/drive\", force_remount=True).\n"
          ]
        }
      ]
    },
    {
      "cell_type": "code",
      "source": [
        "dictionary = pd.read_csv(\"/content/drive/My Drive/dictionary.txt\")\n",
        "# https://github.com/first20hours/google-10000-english/blob/master/20k.txt\n",
        "dictionary = dictionary.to_numpy().flatten()\n",
        "dictionary.shape, dictionary[0:5]"
      ],
      "metadata": {
        "id": "vtAbxIUU8btZ",
        "colab": {
          "base_uri": "https://localhost:8080/"
        },
        "outputId": "b0d3b9af-7687-43d0-9456-3850ad7effc0"
      },
      "execution_count": 6,
      "outputs": [
        {
          "output_type": "execute_result",
          "data": {
            "text/plain": [
              "((19999,), array(['of', 'and', 'to', 'a', 'in'], dtype=object))"
            ]
          },
          "metadata": {},
          "execution_count": 6
        }
      ]
    },
    {
      "cell_type": "code",
      "source": [
        "str_arrs = []\n",
        "\n",
        "for size in str_arr_size:\n",
        "  x = np.random.choice(dictionary, size, replace=False)\n",
        "  str_arrs.append(x)"
      ],
      "metadata": {
        "id": "XRYx3hYM8i-G"
      },
      "execution_count": 7,
      "outputs": []
    },
    {
      "cell_type": "markdown",
      "source": [
        "# Insertion sort"
      ],
      "metadata": {
        "id": "MaW9fP8ylDhX"
      }
    },
    {
      "cell_type": "code",
      "source": [
        "def insertion_sort(arr):\n",
        "  element_no = arr.size\n",
        "  for i in range(1, element_no): # because 0th element does not have predecessors\n",
        "    element = arr[i]\n",
        "    j = i -1\n",
        "    while element < arr[j] and j >= 0:\n",
        "      arr[j+1] = arr[j]\n",
        "      j = j - 1\n",
        "    arr[j+1] = element # because of the last decrement\n",
        "  return arr"
      ],
      "metadata": {
        "id": "wvEtTff8DA2q"
      },
      "execution_count": 8,
      "outputs": []
    },
    {
      "cell_type": "markdown",
      "source": [
        "# Quicksort random"
      ],
      "metadata": {
        "id": "blRL_ngkZ1xS"
      }
    },
    {
      "cell_type": "code",
      "source": [
        "def partition_random(arr, start, end):\n",
        "  pivot_idx = np.random.choice(range(start, end+1))\n",
        "  arr[start], arr[pivot_idx] = arr[pivot_idx], arr[start]\n",
        "  pivot_idx = start\n",
        "  pivot = arr[pivot_idx]\n",
        "  j = start # temporary future placement for pivot\n",
        "  for i in range(start+1, end+1):\n",
        "    if arr[i] < pivot:\n",
        "      j += 1\n",
        "      arr[i], arr[j] = arr[j], arr[i] # move it before pivot\n",
        "  arr[pivot_idx], arr[j] = arr[j], arr[pivot_idx] # place the pivot in the right place\n",
        "  return arr, j # return new partition index"
      ],
      "metadata": {
        "id": "_FdURUjKaAGQ"
      },
      "execution_count": 9,
      "outputs": []
    },
    {
      "cell_type": "code",
      "source": [
        "def quicksort_random(arr, start, end):\n",
        "  t0 = time()\n",
        "  if start < end:\n",
        "    arr, p_idx = partition_random(arr, start, end)\n",
        "    arr, _ = quicksort_random(arr, start, p_idx - 1)\n",
        "    arr, _ = quicksort_random(arr, p_idx + 1, end)\n",
        "  return arr, time() - t0"
      ],
      "metadata": {
        "id": "Y9sSz0M4aIOz"
      },
      "execution_count": 10,
      "outputs": []
    },
    {
      "cell_type": "markdown",
      "source": [
        "# Quicksort median of three"
      ],
      "metadata": {
        "id": "EsOASV-waaFy"
      }
    },
    {
      "cell_type": "code",
      "source": [
        "def get_median(arr, start, end):\n",
        "  mid_idx = math.floor((start+end)/2)\n",
        "  if (arr[mid_idx] > arr[start]) ^ (arr[mid_idx] > arr[end]):\n",
        "    arr[start], arr[mid_idx] = arr[mid_idx], arr[start]\n",
        "  elif (arr[end] > arr[start]) ^ (arr[mid_idx] < arr[end]):\n",
        "    arr[start], arr[end] = arr[end], arr[start]\n",
        "  return arr"
      ],
      "metadata": {
        "id": "oir4KRZ0h05E"
      },
      "execution_count": 11,
      "outputs": []
    },
    {
      "cell_type": "code",
      "source": [
        "def partition_median(arr, start, end):\n",
        "  arr = get_median(arr, start, end)\n",
        "  pivot_idx = start\n",
        "  pivot = arr[pivot_idx]\n",
        "  j = start # temporary future placement for pivot\n",
        "  for i in range(start+1, end+1):\n",
        "    if arr[i] < pivot:\n",
        "      j += 1\n",
        "      arr[i], arr[j] = arr[j], arr[i] # move it before pivot\n",
        "  arr[pivot_idx], arr[j] = arr[j], arr[pivot_idx] # place the pivot in the right place\n",
        "  return arr, j # return new partition index"
      ],
      "metadata": {
        "id": "xYXNV1fZbzQf"
      },
      "execution_count": 12,
      "outputs": []
    },
    {
      "cell_type": "code",
      "source": [
        "def quicksort_median(arr, start, end):\n",
        "  t0 = time()\n",
        "  if start < end:\n",
        "    arr, p_idx = partition_median(arr, start, end)\n",
        "    arr, _ = quicksort_median(arr, start, p_idx - 1)\n",
        "    arr, _ = quicksort_median(arr, p_idx + 1, end)\n",
        "  return arr, time() - t0"
      ],
      "metadata": {
        "id": "0F17W_BPchYm"
      },
      "execution_count": 13,
      "outputs": []
    },
    {
      "cell_type": "markdown",
      "source": [
        "# Quicksort first"
      ],
      "metadata": {
        "id": "SInJRAQm529M"
      }
    },
    {
      "cell_type": "code",
      "source": [
        "def partition_first(arr, start, end):\n",
        "  pivot_idx = start\n",
        "  pivot = arr[pivot_idx]\n",
        "  j = start # temporary future placement for pivot\n",
        "  for i in range(start+1, end+1):\n",
        "    if arr[i] < pivot:\n",
        "      j += 1\n",
        "      arr[i], arr[j] = arr[j], arr[i] # move it before pivot\n",
        "  arr[pivot_idx], arr[j] = arr[j], arr[pivot_idx] # place the pivot in the right place\n",
        "  return arr, j # return new partition index"
      ],
      "metadata": {
        "id": "M4xnIN618VAY"
      },
      "execution_count": 14,
      "outputs": []
    },
    {
      "cell_type": "code",
      "execution_count": 15,
      "metadata": {
        "id": "fHHlFKVR5zZ2"
      },
      "outputs": [],
      "source": [
        "def quicksort_first(arr, start, end):\n",
        "  t0 = time()\n",
        "  if start < end:\n",
        "    arr, p_idx = partition_first(arr, start, end)\n",
        "    arr, _ = quicksort_first(arr, start, p_idx - 1)\n",
        "    arr, _ = quicksort_first(arr, p_idx + 1, end)\n",
        "  return arr, time() - t0"
      ]
    },
    {
      "cell_type": "markdown",
      "source": [
        "# Quicksort + insertion sort"
      ],
      "metadata": {
        "id": "1IC60Jip79CA"
      }
    },
    {
      "cell_type": "code",
      "source": [
        "def hybrid_quicksort(arr, start, end):\n",
        "  t0 = time()\n",
        "  if start < end:\n",
        "    if end - start + 1 > 20:\n",
        "      arr, p_idx = partition_median(arr, start, end)\n",
        "      arr, _ = hybrid_quicksort(arr, start, p_idx - 1)\n",
        "      arr, _ = hybrid_quicksort(arr, p_idx + 1, end)\n",
        "    else:\n",
        "      arr[start:end+1] = insertion_sort(arr[start:end+1])\n",
        "  return arr, time() - t0"
      ],
      "metadata": {
        "id": "GIslRXSlCd6B"
      },
      "execution_count": 16,
      "outputs": []
    },
    {
      "cell_type": "markdown",
      "source": [
        "# Shellsort"
      ],
      "metadata": {
        "id": "34CPHfJo56BL"
      }
    },
    {
      "cell_type": "code",
      "source": [
        "def classic_shellsort(arr, heuristic_gaps=None):\n",
        "  t0 = time()\n",
        "  gap = arr.shape[0]//2\n",
        "  while gap > 0: # this way the gap is bigger or equal 1 because of the floor division\n",
        "    left = 0\n",
        "    right = gap\n",
        "    while right < arr.shape[0]:\n",
        "      if arr[right] < arr[left]:\n",
        "        arr[left], arr[right] = arr[right], arr[left]\n",
        "      left +=1\n",
        "      right += 1 # this way gap stays the same\n",
        "    gap = gap//2\n",
        "  return arr, time() - t0"
      ],
      "metadata": {
        "id": "y8cSWFVu58nN"
      },
      "execution_count": 17,
      "outputs": []
    },
    {
      "cell_type": "code",
      "source": [
        "heuristic_gaps =  np.array([701, 301, 132, 57, 23, 10, 4, 1])"
      ],
      "metadata": {
        "id": "tWME45CVQ46H"
      },
      "execution_count": 18,
      "outputs": []
    },
    {
      "cell_type": "code",
      "source": [
        "def heuristic_shellsort(arr, heuristic_gaps):\n",
        "  t0 = time()\n",
        "  for gap in heuristic_gaps:\n",
        "    left = 0\n",
        "    right = gap\n",
        "    while right < arr.shape[0]:\n",
        "      if arr[right] < arr[left]:\n",
        "        arr[left], arr[right] = arr[right], arr[left]\n",
        "      left +=1\n",
        "      right += 1 # this way gap stays the same\n",
        "  return arr, time() - t0"
      ],
      "metadata": {
        "id": "NpjsenJrFb0w"
      },
      "execution_count": 19,
      "outputs": []
    },
    {
      "cell_type": "markdown",
      "source": [
        "# Methods comparison"
      ],
      "metadata": {
        "id": "o8giot8c8o5i"
      }
    },
    {
      "cell_type": "code",
      "source": [
        "alg_names = [\"Quicksort first\", \"Quicksort random\", \"Quicksort median\", \"Quicksort + insertion\", \"Classic shellsort \", \"Heuristic shellsort\"]\n",
        "quicksort_methods = [quicksort_first, quicksort_random, quicksort_median, hybrid_quicksort]\n",
        "shellsort_methods = [classic_shellsort, heuristic_shellsort]"
      ],
      "metadata": {
        "id": "ysPO1ZIb8siC"
      },
      "execution_count": 20,
      "outputs": []
    },
    {
      "cell_type": "code",
      "source": [
        "def check_arr_results(arr):\n",
        "  times = []\n",
        "  for method in quicksort_methods:\n",
        "    sorted, t = method(arr, 0, arr.shape[0]-1)\n",
        "    assert check_if_sorted(arr)\n",
        "    times.append(t)\n",
        "  for method in shellsort_methods:\n",
        "    h_gaps = heuristic_gaps[heuristic_gaps < arr.shape[0]]\n",
        "    sorted, t = method(arr, h_gaps)\n",
        "    assert check_if_sorted(arr)\n",
        "    times.append(t) \n",
        "  return times"
      ],
      "metadata": {
        "id": "N6TQqcst9BZ5"
      },
      "execution_count": 21,
      "outputs": []
    },
    {
      "cell_type": "markdown",
      "source": [
        "## Integers"
      ],
      "metadata": {
        "id": "0NcFe7CM9df2"
      }
    },
    {
      "cell_type": "code",
      "source": [
        "times_lists = []\n",
        "for int_arr in int_arrs:\n",
        "  times = check_arr_results(int_arr)\n",
        "  times_lists.append(times)"
      ],
      "metadata": {
        "id": "oss7xI7L9e3j"
      },
      "execution_count": 22,
      "outputs": []
    },
    {
      "cell_type": "code",
      "source": [
        "keys = int_arr_size\n",
        "values = times_lists\n",
        "data = dict(zip(int_arr_size, values))\n",
        "df = pd.DataFrame.from_dict(data)\n",
        "df.index = alg_names\n",
        "df"
      ],
      "metadata": {
        "id": "mL8dhSb_9hC4",
        "colab": {
          "base_uri": "https://localhost:8080/",
          "height": 238
        },
        "outputId": "6d48c73e-72eb-4498-dcf3-0f89ff80ef78"
      },
      "execution_count": 23,
      "outputs": [
        {
          "output_type": "execute_result",
          "data": {
            "text/plain": [
              "                            5         80        160       320       640  \\\n",
              "Quicksort first        0.000030  0.000616  0.000953  0.002692  0.005761   \n",
              "Quicksort random       0.000275  0.002438  0.005901  0.009869  0.018714   \n",
              "Quicksort median       0.000048  0.000529  0.001069  0.002459  0.004943   \n",
              "Quicksort + insertion  0.000011  0.000211  0.000499  0.001184  0.002854   \n",
              "Classic shellsort      0.000008  0.000326  0.000758  0.001766  0.003926   \n",
              "Heuristic shellsort    0.000022  0.000448  0.000998  0.002220  0.006069   \n",
              "\n",
              "                            900  \n",
              "Quicksort first        0.009200  \n",
              "Quicksort random       0.030019  \n",
              "Quicksort median       0.007438  \n",
              "Quicksort + insertion  0.004653  \n",
              "Classic shellsort      0.005563  \n",
              "Heuristic shellsort    0.008305  "
            ],
            "text/html": [
              "\n",
              "  <div id=\"df-153d4bb5-c886-492d-af77-a65e55de35ad\">\n",
              "    <div class=\"colab-df-container\">\n",
              "      <div>\n",
              "<style scoped>\n",
              "    .dataframe tbody tr th:only-of-type {\n",
              "        vertical-align: middle;\n",
              "    }\n",
              "\n",
              "    .dataframe tbody tr th {\n",
              "        vertical-align: top;\n",
              "    }\n",
              "\n",
              "    .dataframe thead th {\n",
              "        text-align: right;\n",
              "    }\n",
              "</style>\n",
              "<table border=\"1\" class=\"dataframe\">\n",
              "  <thead>\n",
              "    <tr style=\"text-align: right;\">\n",
              "      <th></th>\n",
              "      <th>5</th>\n",
              "      <th>80</th>\n",
              "      <th>160</th>\n",
              "      <th>320</th>\n",
              "      <th>640</th>\n",
              "      <th>900</th>\n",
              "    </tr>\n",
              "  </thead>\n",
              "  <tbody>\n",
              "    <tr>\n",
              "      <th>Quicksort first</th>\n",
              "      <td>0.000030</td>\n",
              "      <td>0.000616</td>\n",
              "      <td>0.000953</td>\n",
              "      <td>0.002692</td>\n",
              "      <td>0.005761</td>\n",
              "      <td>0.009200</td>\n",
              "    </tr>\n",
              "    <tr>\n",
              "      <th>Quicksort random</th>\n",
              "      <td>0.000275</td>\n",
              "      <td>0.002438</td>\n",
              "      <td>0.005901</td>\n",
              "      <td>0.009869</td>\n",
              "      <td>0.018714</td>\n",
              "      <td>0.030019</td>\n",
              "    </tr>\n",
              "    <tr>\n",
              "      <th>Quicksort median</th>\n",
              "      <td>0.000048</td>\n",
              "      <td>0.000529</td>\n",
              "      <td>0.001069</td>\n",
              "      <td>0.002459</td>\n",
              "      <td>0.004943</td>\n",
              "      <td>0.007438</td>\n",
              "    </tr>\n",
              "    <tr>\n",
              "      <th>Quicksort + insertion</th>\n",
              "      <td>0.000011</td>\n",
              "      <td>0.000211</td>\n",
              "      <td>0.000499</td>\n",
              "      <td>0.001184</td>\n",
              "      <td>0.002854</td>\n",
              "      <td>0.004653</td>\n",
              "    </tr>\n",
              "    <tr>\n",
              "      <th>Classic shellsort</th>\n",
              "      <td>0.000008</td>\n",
              "      <td>0.000326</td>\n",
              "      <td>0.000758</td>\n",
              "      <td>0.001766</td>\n",
              "      <td>0.003926</td>\n",
              "      <td>0.005563</td>\n",
              "    </tr>\n",
              "    <tr>\n",
              "      <th>Heuristic shellsort</th>\n",
              "      <td>0.000022</td>\n",
              "      <td>0.000448</td>\n",
              "      <td>0.000998</td>\n",
              "      <td>0.002220</td>\n",
              "      <td>0.006069</td>\n",
              "      <td>0.008305</td>\n",
              "    </tr>\n",
              "  </tbody>\n",
              "</table>\n",
              "</div>\n",
              "      <button class=\"colab-df-convert\" onclick=\"convertToInteractive('df-153d4bb5-c886-492d-af77-a65e55de35ad')\"\n",
              "              title=\"Convert this dataframe to an interactive table.\"\n",
              "              style=\"display:none;\">\n",
              "        \n",
              "  <svg xmlns=\"http://www.w3.org/2000/svg\" height=\"24px\"viewBox=\"0 0 24 24\"\n",
              "       width=\"24px\">\n",
              "    <path d=\"M0 0h24v24H0V0z\" fill=\"none\"/>\n",
              "    <path d=\"M18.56 5.44l.94 2.06.94-2.06 2.06-.94-2.06-.94-.94-2.06-.94 2.06-2.06.94zm-11 1L8.5 8.5l.94-2.06 2.06-.94-2.06-.94L8.5 2.5l-.94 2.06-2.06.94zm10 10l.94 2.06.94-2.06 2.06-.94-2.06-.94-.94-2.06-.94 2.06-2.06.94z\"/><path d=\"M17.41 7.96l-1.37-1.37c-.4-.4-.92-.59-1.43-.59-.52 0-1.04.2-1.43.59L10.3 9.45l-7.72 7.72c-.78.78-.78 2.05 0 2.83L4 21.41c.39.39.9.59 1.41.59.51 0 1.02-.2 1.41-.59l7.78-7.78 2.81-2.81c.8-.78.8-2.07 0-2.86zM5.41 20L4 18.59l7.72-7.72 1.47 1.35L5.41 20z\"/>\n",
              "  </svg>\n",
              "      </button>\n",
              "      \n",
              "  <style>\n",
              "    .colab-df-container {\n",
              "      display:flex;\n",
              "      flex-wrap:wrap;\n",
              "      gap: 12px;\n",
              "    }\n",
              "\n",
              "    .colab-df-convert {\n",
              "      background-color: #E8F0FE;\n",
              "      border: none;\n",
              "      border-radius: 50%;\n",
              "      cursor: pointer;\n",
              "      display: none;\n",
              "      fill: #1967D2;\n",
              "      height: 32px;\n",
              "      padding: 0 0 0 0;\n",
              "      width: 32px;\n",
              "    }\n",
              "\n",
              "    .colab-df-convert:hover {\n",
              "      background-color: #E2EBFA;\n",
              "      box-shadow: 0px 1px 2px rgba(60, 64, 67, 0.3), 0px 1px 3px 1px rgba(60, 64, 67, 0.15);\n",
              "      fill: #174EA6;\n",
              "    }\n",
              "\n",
              "    [theme=dark] .colab-df-convert {\n",
              "      background-color: #3B4455;\n",
              "      fill: #D2E3FC;\n",
              "    }\n",
              "\n",
              "    [theme=dark] .colab-df-convert:hover {\n",
              "      background-color: #434B5C;\n",
              "      box-shadow: 0px 1px 3px 1px rgba(0, 0, 0, 0.15);\n",
              "      filter: drop-shadow(0px 1px 2px rgba(0, 0, 0, 0.3));\n",
              "      fill: #FFFFFF;\n",
              "    }\n",
              "  </style>\n",
              "\n",
              "      <script>\n",
              "        const buttonEl =\n",
              "          document.querySelector('#df-153d4bb5-c886-492d-af77-a65e55de35ad button.colab-df-convert');\n",
              "        buttonEl.style.display =\n",
              "          google.colab.kernel.accessAllowed ? 'block' : 'none';\n",
              "\n",
              "        async function convertToInteractive(key) {\n",
              "          const element = document.querySelector('#df-153d4bb5-c886-492d-af77-a65e55de35ad');\n",
              "          const dataTable =\n",
              "            await google.colab.kernel.invokeFunction('convertToInteractive',\n",
              "                                                     [key], {});\n",
              "          if (!dataTable) return;\n",
              "\n",
              "          const docLinkHtml = 'Like what you see? Visit the ' +\n",
              "            '<a target=\"_blank\" href=https://colab.research.google.com/notebooks/data_table.ipynb>data table notebook</a>'\n",
              "            + ' to learn more about interactive tables.';\n",
              "          element.innerHTML = '';\n",
              "          dataTable['output_type'] = 'display_data';\n",
              "          await google.colab.output.renderOutput(dataTable, element);\n",
              "          const docLink = document.createElement('div');\n",
              "          docLink.innerHTML = docLinkHtml;\n",
              "          element.appendChild(docLink);\n",
              "        }\n",
              "      </script>\n",
              "    </div>\n",
              "  </div>\n",
              "  "
            ]
          },
          "metadata": {},
          "execution_count": 23
        }
      ]
    },
    {
      "cell_type": "markdown",
      "source": [
        "## Strings"
      ],
      "metadata": {
        "id": "vDQzoXWC9j26"
      }
    },
    {
      "cell_type": "code",
      "source": [
        "times_lists = []\n",
        "for str_arr in str_arrs:\n",
        "  times = check_arr_results(str_arr)\n",
        "  times_lists.append(times)"
      ],
      "metadata": {
        "id": "DKd_Rse-9lVr"
      },
      "execution_count": 24,
      "outputs": []
    },
    {
      "cell_type": "code",
      "source": [
        "keys = int_arr_size\n",
        "values = times_lists\n",
        "data = dict(zip(int_arr_size, values))\n",
        "df = pd.DataFrame.from_dict(data)\n",
        "df.index = alg_names\n",
        "df"
      ],
      "metadata": {
        "id": "KrL81R5h9n59",
        "colab": {
          "base_uri": "https://localhost:8080/",
          "height": 238
        },
        "outputId": "1dc8bad1-2762-4b39-d8a3-1bb9e9cca129"
      },
      "execution_count": 25,
      "outputs": [
        {
          "output_type": "execute_result",
          "data": {
            "text/plain": [
              "                            5         80        160       320       640  \\\n",
              "Quicksort first        0.000030  0.000080  0.000166  0.000322  0.000734   \n",
              "Quicksort random       0.000285  0.000463  0.000997  0.001429  0.004044   \n",
              "Quicksort median       0.000028  0.000092  0.000190  0.000319  0.000953   \n",
              "Quicksort + insertion  0.000010  0.000018  0.000049  0.000109  0.000411   \n",
              "Classic shellsort      0.000007  0.000055  0.000075  0.000162  0.000592   \n",
              "Heuristic shellsort    0.000020  0.000063  0.000104  0.000248  0.000917   \n",
              "\n",
              "                            900  \n",
              "Quicksort first        0.002407  \n",
              "Quicksort random       0.010369  \n",
              "Quicksort median       0.002116  \n",
              "Quicksort + insertion  0.001034  \n",
              "Classic shellsort      0.001618  \n",
              "Heuristic shellsort    0.002216  "
            ],
            "text/html": [
              "\n",
              "  <div id=\"df-dc44667a-a858-490a-852f-7dda6739e386\">\n",
              "    <div class=\"colab-df-container\">\n",
              "      <div>\n",
              "<style scoped>\n",
              "    .dataframe tbody tr th:only-of-type {\n",
              "        vertical-align: middle;\n",
              "    }\n",
              "\n",
              "    .dataframe tbody tr th {\n",
              "        vertical-align: top;\n",
              "    }\n",
              "\n",
              "    .dataframe thead th {\n",
              "        text-align: right;\n",
              "    }\n",
              "</style>\n",
              "<table border=\"1\" class=\"dataframe\">\n",
              "  <thead>\n",
              "    <tr style=\"text-align: right;\">\n",
              "      <th></th>\n",
              "      <th>5</th>\n",
              "      <th>80</th>\n",
              "      <th>160</th>\n",
              "      <th>320</th>\n",
              "      <th>640</th>\n",
              "      <th>900</th>\n",
              "    </tr>\n",
              "  </thead>\n",
              "  <tbody>\n",
              "    <tr>\n",
              "      <th>Quicksort first</th>\n",
              "      <td>0.000030</td>\n",
              "      <td>0.000080</td>\n",
              "      <td>0.000166</td>\n",
              "      <td>0.000322</td>\n",
              "      <td>0.000734</td>\n",
              "      <td>0.002407</td>\n",
              "    </tr>\n",
              "    <tr>\n",
              "      <th>Quicksort random</th>\n",
              "      <td>0.000285</td>\n",
              "      <td>0.000463</td>\n",
              "      <td>0.000997</td>\n",
              "      <td>0.001429</td>\n",
              "      <td>0.004044</td>\n",
              "      <td>0.010369</td>\n",
              "    </tr>\n",
              "    <tr>\n",
              "      <th>Quicksort median</th>\n",
              "      <td>0.000028</td>\n",
              "      <td>0.000092</td>\n",
              "      <td>0.000190</td>\n",
              "      <td>0.000319</td>\n",
              "      <td>0.000953</td>\n",
              "      <td>0.002116</td>\n",
              "    </tr>\n",
              "    <tr>\n",
              "      <th>Quicksort + insertion</th>\n",
              "      <td>0.000010</td>\n",
              "      <td>0.000018</td>\n",
              "      <td>0.000049</td>\n",
              "      <td>0.000109</td>\n",
              "      <td>0.000411</td>\n",
              "      <td>0.001034</td>\n",
              "    </tr>\n",
              "    <tr>\n",
              "      <th>Classic shellsort</th>\n",
              "      <td>0.000007</td>\n",
              "      <td>0.000055</td>\n",
              "      <td>0.000075</td>\n",
              "      <td>0.000162</td>\n",
              "      <td>0.000592</td>\n",
              "      <td>0.001618</td>\n",
              "    </tr>\n",
              "    <tr>\n",
              "      <th>Heuristic shellsort</th>\n",
              "      <td>0.000020</td>\n",
              "      <td>0.000063</td>\n",
              "      <td>0.000104</td>\n",
              "      <td>0.000248</td>\n",
              "      <td>0.000917</td>\n",
              "      <td>0.002216</td>\n",
              "    </tr>\n",
              "  </tbody>\n",
              "</table>\n",
              "</div>\n",
              "      <button class=\"colab-df-convert\" onclick=\"convertToInteractive('df-dc44667a-a858-490a-852f-7dda6739e386')\"\n",
              "              title=\"Convert this dataframe to an interactive table.\"\n",
              "              style=\"display:none;\">\n",
              "        \n",
              "  <svg xmlns=\"http://www.w3.org/2000/svg\" height=\"24px\"viewBox=\"0 0 24 24\"\n",
              "       width=\"24px\">\n",
              "    <path d=\"M0 0h24v24H0V0z\" fill=\"none\"/>\n",
              "    <path d=\"M18.56 5.44l.94 2.06.94-2.06 2.06-.94-2.06-.94-.94-2.06-.94 2.06-2.06.94zm-11 1L8.5 8.5l.94-2.06 2.06-.94-2.06-.94L8.5 2.5l-.94 2.06-2.06.94zm10 10l.94 2.06.94-2.06 2.06-.94-2.06-.94-.94-2.06-.94 2.06-2.06.94z\"/><path d=\"M17.41 7.96l-1.37-1.37c-.4-.4-.92-.59-1.43-.59-.52 0-1.04.2-1.43.59L10.3 9.45l-7.72 7.72c-.78.78-.78 2.05 0 2.83L4 21.41c.39.39.9.59 1.41.59.51 0 1.02-.2 1.41-.59l7.78-7.78 2.81-2.81c.8-.78.8-2.07 0-2.86zM5.41 20L4 18.59l7.72-7.72 1.47 1.35L5.41 20z\"/>\n",
              "  </svg>\n",
              "      </button>\n",
              "      \n",
              "  <style>\n",
              "    .colab-df-container {\n",
              "      display:flex;\n",
              "      flex-wrap:wrap;\n",
              "      gap: 12px;\n",
              "    }\n",
              "\n",
              "    .colab-df-convert {\n",
              "      background-color: #E8F0FE;\n",
              "      border: none;\n",
              "      border-radius: 50%;\n",
              "      cursor: pointer;\n",
              "      display: none;\n",
              "      fill: #1967D2;\n",
              "      height: 32px;\n",
              "      padding: 0 0 0 0;\n",
              "      width: 32px;\n",
              "    }\n",
              "\n",
              "    .colab-df-convert:hover {\n",
              "      background-color: #E2EBFA;\n",
              "      box-shadow: 0px 1px 2px rgba(60, 64, 67, 0.3), 0px 1px 3px 1px rgba(60, 64, 67, 0.15);\n",
              "      fill: #174EA6;\n",
              "    }\n",
              "\n",
              "    [theme=dark] .colab-df-convert {\n",
              "      background-color: #3B4455;\n",
              "      fill: #D2E3FC;\n",
              "    }\n",
              "\n",
              "    [theme=dark] .colab-df-convert:hover {\n",
              "      background-color: #434B5C;\n",
              "      box-shadow: 0px 1px 3px 1px rgba(0, 0, 0, 0.15);\n",
              "      filter: drop-shadow(0px 1px 2px rgba(0, 0, 0, 0.3));\n",
              "      fill: #FFFFFF;\n",
              "    }\n",
              "  </style>\n",
              "\n",
              "      <script>\n",
              "        const buttonEl =\n",
              "          document.querySelector('#df-dc44667a-a858-490a-852f-7dda6739e386 button.colab-df-convert');\n",
              "        buttonEl.style.display =\n",
              "          google.colab.kernel.accessAllowed ? 'block' : 'none';\n",
              "\n",
              "        async function convertToInteractive(key) {\n",
              "          const element = document.querySelector('#df-dc44667a-a858-490a-852f-7dda6739e386');\n",
              "          const dataTable =\n",
              "            await google.colab.kernel.invokeFunction('convertToInteractive',\n",
              "                                                     [key], {});\n",
              "          if (!dataTable) return;\n",
              "\n",
              "          const docLinkHtml = 'Like what you see? Visit the ' +\n",
              "            '<a target=\"_blank\" href=https://colab.research.google.com/notebooks/data_table.ipynb>data table notebook</a>'\n",
              "            + ' to learn more about interactive tables.';\n",
              "          element.innerHTML = '';\n",
              "          dataTable['output_type'] = 'display_data';\n",
              "          await google.colab.output.renderOutput(dataTable, element);\n",
              "          const docLink = document.createElement('div');\n",
              "          docLink.innerHTML = docLinkHtml;\n",
              "          element.appendChild(docLink);\n",
              "        }\n",
              "      </script>\n",
              "    </div>\n",
              "  </div>\n",
              "  "
            ]
          },
          "metadata": {},
          "execution_count": 25
        }
      ]
    }
  ]
}