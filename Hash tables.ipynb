{
  "nbformat": 4,
  "nbformat_minor": 0,
  "metadata": {
    "colab": {
      "name": "Hash tables.ipynb",
      "provenance": [],
      "collapsed_sections": [],
      "toc_visible": true
    },
    "kernelspec": {
      "name": "python3",
      "display_name": "Python 3"
    },
    "language_info": {
      "name": "python"
    }
  },
  "cells": [
    {
      "cell_type": "markdown",
      "source": [
        "Anna Mrukwa  \n",
        "Makrokierunek sem. 6"
      ],
      "metadata": {
        "id": "aeXY72gjX9T7"
      }
    },
    {
      "cell_type": "code",
      "source": [
        "import pandas as pd\n",
        "import numpy as np\n",
        "from tqdm import tqdm"
      ],
      "metadata": {
        "id": "c5hSWCP3YSEw"
      },
      "execution_count": null,
      "outputs": []
    },
    {
      "cell_type": "markdown",
      "source": [
        "# Supporting functions"
      ],
      "metadata": {
        "id": "7YqgGaHwp3n1"
      }
    },
    {
      "cell_type": "code",
      "source": [
        "def is_not_prime(number):\n",
        "  for i in range(2, number//2):\n",
        "    if number % i == 0:\n",
        "      return True\n",
        "  return False"
      ],
      "metadata": {
        "id": "VG99l8YDSqMC"
      },
      "execution_count": null,
      "outputs": []
    },
    {
      "cell_type": "code",
      "source": [
        "def string_hash(element, size):\n",
        "  h = 0 \n",
        "  c = 29\n",
        "  for s in range(len(element)):\n",
        "    h = (c*h+s) % size\n",
        "  return h\n",
        "\n",
        "def string_hash_2(element, size):\n",
        "  h = 0\n",
        "  c1 = 31415\n",
        "  c2 = 27183\n",
        "  for s in range(len(element)):\n",
        "    h = (c1*h+s) % size\n",
        "    c1 = (c1*c2) % (size-1)\n",
        "  if h < 0:\n",
        "    return h + size\n",
        "  if h == 0:\n",
        "    return 1\n",
        "  return h"
      ],
      "metadata": {
        "id": "Z5u08AYFwtT0"
      },
      "execution_count": null,
      "outputs": []
    },
    {
      "cell_type": "code",
      "source": [
        "def dict_hash(element, size):\n",
        "  for key in element:\n",
        "    return string_hash(key, size)\n",
        "\n",
        "def dict_hash_2(element, size):\n",
        "  for key in element:\n",
        "    return string_hash_2(key, size)\n"
      ],
      "metadata": {
        "id": "E1bY0ZvECB--"
      },
      "execution_count": null,
      "outputs": []
    },
    {
      "cell_type": "markdown",
      "source": [
        "# Basic hash table"
      ],
      "metadata": {
        "id": "dpFFtBEep0O-"
      }
    },
    {
      "cell_type": "code",
      "source": [
        "class hash_table():\n",
        "  def __init__(self,size) :\n",
        "    # works for inheriting classes\n",
        "    self.size = size\n",
        "    self.table = [None]*self.size\n",
        "    self.taken_slots = 0\n",
        "  \n",
        "  def is_empty(self):\n",
        "    # works for inheriting classes\n",
        "    if self.taken_slots == 0:\n",
        "      return True\n",
        "    return False\n",
        "\n",
        "  def _find_next_size(self):\n",
        "    # works for inheriting classes\n",
        "    newsize = self.size*2\n",
        "    while is_not_prime(newsize):\n",
        "      newsize += 1\n",
        "    return newsize\n",
        "\n",
        "  def _rehash(self, newsize):\n",
        "    rehashed_els = 0\n",
        "    newtable = [None]*newsize\n",
        "    for i in range(self.size):\n",
        "      if self.table[i] is not None:\n",
        "        # found element\n",
        "        rehashed_els +=1\n",
        "        el = self.table[i]\n",
        "        # get new hash\n",
        "        idx = self._hash(el, newsize)\n",
        "        # and offset in case collision occurs\n",
        "        offset = self._hash_2(el, newsize)\n",
        "        while newtable[idx] is not None: \n",
        "          # collision\n",
        "          # no need to check for repetitions here\n",
        "          idx += offset\n",
        "          idx = idx % newsize\n",
        "        newtable[idx] = el\n",
        "      if rehashed_els == self.taken_slots:\n",
        "        break\n",
        "    return newtable\n",
        "  \n",
        "  def _expand_table(self):\n",
        "    # works for inheriting classes\n",
        "    newsize = self._find_next_size()\n",
        "    rehashed_els = 0\n",
        "    self.table = self._rehash(newsize)\n",
        "    self.size = newsize\n",
        "\n",
        "  def _hash(self, element, size):\n",
        "    # works for inheriting classes\n",
        "    if isinstance(element, str):\n",
        "      return string_hash(element, size)\n",
        "    if isinstance(element, dict):\n",
        "      return dict_hash(element, size)\n",
        "    return element % size\n",
        "\n",
        "  def _hash_2(self, element, size):\n",
        "    # should be overwritten\n",
        "    offset = 0\n",
        "    return offset\n",
        "\n",
        "  def _resolve_collision(self, idx, element):\n",
        "    # works for inheriting classes\n",
        "    offset = self._hash_2(element, self.size)\n",
        "    while self.table[idx] is not None and self.table[idx] != element:\n",
        "      idx += offset\n",
        "      idx = idx % self.size\n",
        "    return idx\n",
        "\n",
        "  def _find_idx(self, element):\n",
        "    # works for inheriting classes\n",
        "    ex_no = 1\n",
        "    idx = self._hash(element, self.size)\n",
        "    if self.table[idx] == element:\n",
        "      return idx, ex_no\n",
        "    first_pos = idx\n",
        "    offset = self._hash_2(element, self.size)\n",
        "    while self.table[idx] != element:  \n",
        "      ex_no += 1\n",
        "      idx += offset\n",
        "      idx = idx % self.size\n",
        "      if idx == first_pos: # and self.table[idx] is not None could be added when using the magic value in the remove_element method\n",
        "        # print(\"Item not found\")\n",
        "        return -1, ex_no\n",
        "    return idx, ex_no\n",
        "\n",
        "  def insert_element(self, element): \n",
        "    # works for inheriting classes\n",
        "    idx = self._hash(element, self.size)\n",
        "    if self.table[idx] is not None and self.table[idx] != element:\n",
        "      idx = self._resolve_collision(idx, element)\n",
        "    self.table[idx] = element\n",
        "    self.taken_slots += 1\n",
        "    if self.taken_slots == self.size:\n",
        "      self._expand_table()\n",
        "  \n",
        "  def remove_element(self, element): \n",
        "    # works for inheriting classes\n",
        "    idx, _ = self._find_idx(element)\n",
        "    if idx != -1:\n",
        "      self.taken_slots -= 1\n",
        "      self.table[idx] = None # or magic number signalling the deletion\n",
        "\n",
        "  def find_element(self, element): \n",
        "    # works for inheriting classes\n",
        "    if self.is_empty():\n",
        "      print(\"Hash table is empty\")\n",
        "      return -1, 0\n",
        "    idx, ex_no = self._find_idx(element)\n",
        "    return idx, ex_no\n"
      ],
      "metadata": {
        "id": "F4XVLKx0ULES"
      },
      "execution_count": null,
      "outputs": []
    },
    {
      "cell_type": "markdown",
      "source": [
        "# Linear probing"
      ],
      "metadata": {
        "id": "KcQ_SgNmNVZ-"
      }
    },
    {
      "cell_type": "code",
      "execution_count": null,
      "metadata": {
        "id": "AsEJViPGNPx0"
      },
      "outputs": [],
      "source": [
        "class ht_lp(hash_table):\n",
        "  def __init__(self, size=1000003):\n",
        "    super().__init__(size)\n",
        "\n",
        "  def _hash_2(self, element, size=None):\n",
        "    offset = 1\n",
        "    return offset"
      ]
    },
    {
      "cell_type": "markdown",
      "source": [
        "# Double hashing"
      ],
      "metadata": {
        "id": "U2Nlmf1yNYyi"
      }
    },
    {
      "cell_type": "code",
      "source": [
        "class ht_dh(hash_table):\n",
        "  def __init__(self, size=1000003, small_prime=251):\n",
        "    self.small_prime=small_prime\n",
        "    super().__init__(size)\n",
        "\n",
        "  def _hash_2(self, element, size):\n",
        "    # parametrized depending on element\n",
        "    if isinstance(element, str):\n",
        "      return string_hash_2(element, size)\n",
        "    if isinstance(element, dict):\n",
        "      return dict_hash_2(element, size)\n",
        "    return self.small_prime - (element % self.small_prime)"
      ],
      "metadata": {
        "id": "7WikWfDiOyL-"
      },
      "execution_count": null,
      "outputs": []
    },
    {
      "cell_type": "markdown",
      "source": [
        "# Testing"
      ],
      "metadata": {
        "id": "kxPJcl09V17w"
      }
    },
    {
      "cell_type": "code",
      "source": [
        "from google.colab import drive\n",
        "drive.mount('/content/drive')"
      ],
      "metadata": {
        "colab": {
          "base_uri": "https://localhost:8080/"
        },
        "id": "5P-l-TvE5_VO",
        "outputId": "7bc7ebcf-42e4-4032-85d1-79517288e357"
      },
      "execution_count": null,
      "outputs": [
        {
          "output_type": "stream",
          "name": "stdout",
          "text": [
            "Drive already mounted at /content/drive; to attempt to forcibly remount, call drive.mount(\"/content/drive\", force_remount=True).\n"
          ]
        }
      ]
    },
    {
      "cell_type": "code",
      "source": [
        "load_factors = [str(i*10)+\"%\" for i in range(5,10)]\n",
        "lf = [i/10 for i in range(5,10)]\n",
        "methods = [\"Linear probing\", \"Double hashing\"]\n",
        "tasks = [\"search hit\", \"search miss\"]"
      ],
      "metadata": {
        "id": "JCOiLE2dV_Tv"
      },
      "execution_count": null,
      "outputs": []
    },
    {
      "cell_type": "markdown",
      "source": [
        "## Integers"
      ],
      "metadata": {
        "id": "UQb-ONcKV3-L"
      }
    },
    {
      "cell_type": "code",
      "source": [
        "hit_numbers = pd.read_csv(\"/content/drive/My Drive/AaDS/set_of_1050000_random_numbers.txt\", header=None)\n",
        "hit_numbers = hit_numbers.to_numpy().flatten()"
      ],
      "metadata": {
        "id": "V8kj1GC-6FrG"
      },
      "execution_count": null,
      "outputs": []
    },
    {
      "cell_type": "code",
      "source": [
        "miss_numbers = pd.read_csv(\"/content/drive/My Drive/AaDS/set_of_1050000_random_numbers_for_search_miss.txt\", header=None)\n",
        "miss_numbers = miss_numbers.to_numpy().flatten()"
      ],
      "metadata": {
        "id": "p2bNvU9o6WEH"
      },
      "execution_count": null,
      "outputs": []
    },
    {
      "cell_type": "code",
      "source": [
        "lp_counts_miss = []\n",
        "lp_counts_hit = []\n",
        "dh_counts_miss = []\n",
        "dh_counts_hit = []\n",
        "prev_el_no = 0\n",
        "probing = ht_lp()\n",
        "double_h = ht_dh()\n",
        "\n",
        "for cap in lf:\n",
        "  elements_no = int(probing.size*cap)\n",
        "  print(cap)\n",
        "  # fill the table to the desired capacity\n",
        "  for i in tqdm(range(prev_el_no, elements_no)):\n",
        "    element = hit_numbers[i]\n",
        "    probing.insert_element(element)\n",
        "    double_h.insert_element(element)\n",
        "  # perform search\n",
        "  # because we dont want only the ones that did not need collision solving\n",
        "  sampling_indices = np.random.choice(range(elements_no), \n",
        "                                      size=100, replace=False)\n",
        "  miss_probing = np.zeros(100)\n",
        "  hit_probing = np.zeros(100)\n",
        "  miss_dh = np.zeros(100)\n",
        "  hit_dh = np.zeros(100)\n",
        "  for i in tqdm(range(100)):\n",
        "    idx = sampling_indices[i]\n",
        "    _, hit_probing[i] = probing.find_element(hit_numbers[idx])\n",
        "    _, miss_probing[i] = probing.find_element(miss_numbers[idx])\n",
        "    _, hit_dh[i] = double_h.find_element(hit_numbers[idx])\n",
        "    _, miss_dh[i] = double_h.find_element(miss_numbers[idx])\n",
        "  lp_counts_miss.append(miss_probing.mean())\n",
        "  lp_counts_hit.append(hit_probing.mean())\n",
        "  dh_counts_miss.append(miss_dh.mean())\n",
        "  dh_counts_hit.append(hit_dh.mean())\n",
        "  prev_el_no = elements_no"
      ],
      "metadata": {
        "id": "w1Lznaw9dwYP",
        "colab": {
          "base_uri": "https://localhost:8080/"
        },
        "outputId": "48fcd571-3146-4194-9df0-3486c63ccc64"
      },
      "execution_count": null,
      "outputs": [
        {
          "output_type": "stream",
          "name": "stdout",
          "text": [
            "0.5\n"
          ]
        },
        {
          "output_type": "stream",
          "name": "stderr",
          "text": [
            "100%|██████████| 500001/500001 [00:02<00:00, 225453.47it/s]\n",
            "100%|██████████| 100/100 [02:18<00:00,  1.39s/it]\n"
          ]
        },
        {
          "output_type": "stream",
          "name": "stdout",
          "text": [
            "0.6\n"
          ]
        },
        {
          "output_type": "stream",
          "name": "stderr",
          "text": [
            "100%|██████████| 100000/100000 [00:00<00:00, 145050.67it/s]\n",
            "100%|██████████| 100/100 [02:19<00:00,  1.39s/it]\n"
          ]
        },
        {
          "output_type": "stream",
          "name": "stdout",
          "text": [
            "0.7\n"
          ]
        },
        {
          "output_type": "stream",
          "name": "stderr",
          "text": [
            "100%|██████████| 100001/100001 [00:00<00:00, 110843.07it/s]\n",
            "100%|██████████| 100/100 [02:18<00:00,  1.38s/it]\n"
          ]
        },
        {
          "output_type": "stream",
          "name": "stdout",
          "text": [
            "0.8\n"
          ]
        },
        {
          "output_type": "stream",
          "name": "stderr",
          "text": [
            "100%|██████████| 100000/100000 [00:01<00:00, 74455.44it/s]\n",
            "100%|██████████| 100/100 [02:20<00:00,  1.41s/it]\n"
          ]
        },
        {
          "output_type": "stream",
          "name": "stdout",
          "text": [
            "0.9\n"
          ]
        },
        {
          "output_type": "stream",
          "name": "stderr",
          "text": [
            "100%|██████████| 100000/100000 [00:02<00:00, 34790.08it/s]\n",
            "100%|██████████| 100/100 [02:17<00:00,  1.37s/it]\n"
          ]
        }
      ]
    },
    {
      "cell_type": "code",
      "source": [
        "del miss_numbers, hit_numbers # for memory's sake"
      ],
      "metadata": {
        "id": "7Un1MmvEDxKp"
      },
      "execution_count": null,
      "outputs": []
    },
    {
      "cell_type": "code",
      "source": [
        "df = {}\n",
        "# Linear probing\n",
        "data = dict(zip(tasks, [lp_counts_hit, lp_counts_miss]), index= load_factors)\n",
        "df[methods[0]] = pd.DataFrame.from_dict(data)\n",
        "df[methods[0]].rename(columns = {'index':'load factor'}, inplace=True)\n",
        "df[methods[0]].set_index('load factor', inplace=True)\n",
        "# Double hashing\n",
        "data = dict(zip(tasks, [dh_counts_hit, dh_counts_miss]), index= load_factors)\n",
        "df[methods[1]] = pd.DataFrame.from_dict(data)\n",
        "df[methods[1]].rename(columns = {'index':'load factor'}, inplace=True)\n",
        "df[methods[1]].set_index('load factor', inplace=True)\n",
        "\n",
        "df = pd.concat(df, axis=1)\n",
        "df"
      ],
      "metadata": {
        "colab": {
          "base_uri": "https://localhost:8080/",
          "height": 269
        },
        "id": "KpNvCOhyXgbI",
        "outputId": "f6333029-75c3-480c-b941-05a2ce1c510d"
      },
      "execution_count": null,
      "outputs": [
        {
          "output_type": "execute_result",
          "data": {
            "text/plain": [
              "            Linear probing             Double hashing            \n",
              "                search hit search miss     search hit search miss\n",
              "load factor                                                      \n",
              "50%                   1.67   1000004.0           1.43   1000004.0\n",
              "60%                   1.59   1000004.0           1.48   1000004.0\n",
              "70%                   2.30   1000004.0           2.00   1000004.0\n",
              "80%                   3.06   1000004.0           2.25   1000004.0\n",
              "90%                   6.47   1000004.0           2.64   1000004.0"
            ],
            "text/html": [
              "\n",
              "  <div id=\"df-54ca8cb1-48da-478b-9dd5-b92e2d2aa9f4\">\n",
              "    <div class=\"colab-df-container\">\n",
              "      <div>\n",
              "<style scoped>\n",
              "    .dataframe tbody tr th:only-of-type {\n",
              "        vertical-align: middle;\n",
              "    }\n",
              "\n",
              "    .dataframe tbody tr th {\n",
              "        vertical-align: top;\n",
              "    }\n",
              "\n",
              "    .dataframe thead tr th {\n",
              "        text-align: left;\n",
              "    }\n",
              "\n",
              "    .dataframe thead tr:last-of-type th {\n",
              "        text-align: right;\n",
              "    }\n",
              "</style>\n",
              "<table border=\"1\" class=\"dataframe\">\n",
              "  <thead>\n",
              "    <tr>\n",
              "      <th></th>\n",
              "      <th colspan=\"2\" halign=\"left\">Linear probing</th>\n",
              "      <th colspan=\"2\" halign=\"left\">Double hashing</th>\n",
              "    </tr>\n",
              "    <tr>\n",
              "      <th></th>\n",
              "      <th>search hit</th>\n",
              "      <th>search miss</th>\n",
              "      <th>search hit</th>\n",
              "      <th>search miss</th>\n",
              "    </tr>\n",
              "    <tr>\n",
              "      <th>load factor</th>\n",
              "      <th></th>\n",
              "      <th></th>\n",
              "      <th></th>\n",
              "      <th></th>\n",
              "    </tr>\n",
              "  </thead>\n",
              "  <tbody>\n",
              "    <tr>\n",
              "      <th>50%</th>\n",
              "      <td>1.67</td>\n",
              "      <td>1000004.0</td>\n",
              "      <td>1.43</td>\n",
              "      <td>1000004.0</td>\n",
              "    </tr>\n",
              "    <tr>\n",
              "      <th>60%</th>\n",
              "      <td>1.59</td>\n",
              "      <td>1000004.0</td>\n",
              "      <td>1.48</td>\n",
              "      <td>1000004.0</td>\n",
              "    </tr>\n",
              "    <tr>\n",
              "      <th>70%</th>\n",
              "      <td>2.30</td>\n",
              "      <td>1000004.0</td>\n",
              "      <td>2.00</td>\n",
              "      <td>1000004.0</td>\n",
              "    </tr>\n",
              "    <tr>\n",
              "      <th>80%</th>\n",
              "      <td>3.06</td>\n",
              "      <td>1000004.0</td>\n",
              "      <td>2.25</td>\n",
              "      <td>1000004.0</td>\n",
              "    </tr>\n",
              "    <tr>\n",
              "      <th>90%</th>\n",
              "      <td>6.47</td>\n",
              "      <td>1000004.0</td>\n",
              "      <td>2.64</td>\n",
              "      <td>1000004.0</td>\n",
              "    </tr>\n",
              "  </tbody>\n",
              "</table>\n",
              "</div>\n",
              "      <button class=\"colab-df-convert\" onclick=\"convertToInteractive('df-54ca8cb1-48da-478b-9dd5-b92e2d2aa9f4')\"\n",
              "              title=\"Convert this dataframe to an interactive table.\"\n",
              "              style=\"display:none;\">\n",
              "        \n",
              "  <svg xmlns=\"http://www.w3.org/2000/svg\" height=\"24px\"viewBox=\"0 0 24 24\"\n",
              "       width=\"24px\">\n",
              "    <path d=\"M0 0h24v24H0V0z\" fill=\"none\"/>\n",
              "    <path d=\"M18.56 5.44l.94 2.06.94-2.06 2.06-.94-2.06-.94-.94-2.06-.94 2.06-2.06.94zm-11 1L8.5 8.5l.94-2.06 2.06-.94-2.06-.94L8.5 2.5l-.94 2.06-2.06.94zm10 10l.94 2.06.94-2.06 2.06-.94-2.06-.94-.94-2.06-.94 2.06-2.06.94z\"/><path d=\"M17.41 7.96l-1.37-1.37c-.4-.4-.92-.59-1.43-.59-.52 0-1.04.2-1.43.59L10.3 9.45l-7.72 7.72c-.78.78-.78 2.05 0 2.83L4 21.41c.39.39.9.59 1.41.59.51 0 1.02-.2 1.41-.59l7.78-7.78 2.81-2.81c.8-.78.8-2.07 0-2.86zM5.41 20L4 18.59l7.72-7.72 1.47 1.35L5.41 20z\"/>\n",
              "  </svg>\n",
              "      </button>\n",
              "      \n",
              "  <style>\n",
              "    .colab-df-container {\n",
              "      display:flex;\n",
              "      flex-wrap:wrap;\n",
              "      gap: 12px;\n",
              "    }\n",
              "\n",
              "    .colab-df-convert {\n",
              "      background-color: #E8F0FE;\n",
              "      border: none;\n",
              "      border-radius: 50%;\n",
              "      cursor: pointer;\n",
              "      display: none;\n",
              "      fill: #1967D2;\n",
              "      height: 32px;\n",
              "      padding: 0 0 0 0;\n",
              "      width: 32px;\n",
              "    }\n",
              "\n",
              "    .colab-df-convert:hover {\n",
              "      background-color: #E2EBFA;\n",
              "      box-shadow: 0px 1px 2px rgba(60, 64, 67, 0.3), 0px 1px 3px 1px rgba(60, 64, 67, 0.15);\n",
              "      fill: #174EA6;\n",
              "    }\n",
              "\n",
              "    [theme=dark] .colab-df-convert {\n",
              "      background-color: #3B4455;\n",
              "      fill: #D2E3FC;\n",
              "    }\n",
              "\n",
              "    [theme=dark] .colab-df-convert:hover {\n",
              "      background-color: #434B5C;\n",
              "      box-shadow: 0px 1px 3px 1px rgba(0, 0, 0, 0.15);\n",
              "      filter: drop-shadow(0px 1px 2px rgba(0, 0, 0, 0.3));\n",
              "      fill: #FFFFFF;\n",
              "    }\n",
              "  </style>\n",
              "\n",
              "      <script>\n",
              "        const buttonEl =\n",
              "          document.querySelector('#df-54ca8cb1-48da-478b-9dd5-b92e2d2aa9f4 button.colab-df-convert');\n",
              "        buttonEl.style.display =\n",
              "          google.colab.kernel.accessAllowed ? 'block' : 'none';\n",
              "\n",
              "        async function convertToInteractive(key) {\n",
              "          const element = document.querySelector('#df-54ca8cb1-48da-478b-9dd5-b92e2d2aa9f4');\n",
              "          const dataTable =\n",
              "            await google.colab.kernel.invokeFunction('convertToInteractive',\n",
              "                                                     [key], {});\n",
              "          if (!dataTable) return;\n",
              "\n",
              "          const docLinkHtml = 'Like what you see? Visit the ' +\n",
              "            '<a target=\"_blank\" href=https://colab.research.google.com/notebooks/data_table.ipynb>data table notebook</a>'\n",
              "            + ' to learn more about interactive tables.';\n",
              "          element.innerHTML = '';\n",
              "          dataTable['output_type'] = 'display_data';\n",
              "          await google.colab.output.renderOutput(dataTable, element);\n",
              "          const docLink = document.createElement('div');\n",
              "          docLink.innerHTML = docLinkHtml;\n",
              "          element.appendChild(docLink);\n",
              "        }\n",
              "      </script>\n",
              "    </div>\n",
              "  </div>\n",
              "  "
            ]
          },
          "metadata": {},
          "execution_count": 14
        }
      ]
    },
    {
      "cell_type": "markdown",
      "source": [
        "Hit search number: initial hash + size of the hash table (the key is rehashed until we reach the initial hash again). The solution would be that after deletion of the element some sort of magic value would be inserted instead of None (None could be used as a stop condition as well - if the element was not inserted, then there is the None value), which would signal that the search should not be stopped because of the deletion of the colliding element that was inserted beforehead."
      ],
      "metadata": {
        "id": "er0LrErcETZ_"
      }
    },
    {
      "cell_type": "markdown",
      "source": [
        "## Strings"
      ],
      "metadata": {
        "id": "ioq-0ZJUV500"
      }
    },
    {
      "cell_type": "code",
      "source": [
        "dictionary = pd.read_csv(\"/content/drive/My Drive/AaDS/count_1w.txt\", sep='\\t', header=None)\n",
        "dictionary = dictionary.drop([2577, 12819]) # it is \"null\" and \"nan\" and numpy does not read it correctly\n",
        "dictionary = dictionary.iloc[:,0].to_numpy().flatten() \n",
        "hit_words = dictionary[:dictionary.shape[0]//2]\n",
        "miss_words = dictionary[dictionary.shape[0]//2:]\n",
        "del dictionary"
      ],
      "metadata": {
        "id": "40k-uEP5E5GT"
      },
      "execution_count": null,
      "outputs": []
    },
    {
      "cell_type": "code",
      "source": [
        "lp_counts_miss = []\n",
        "lp_counts_hit = []\n",
        "dh_counts_miss = []\n",
        "dh_counts_hit = []\n",
        "\n",
        "\n",
        "prev_el_no = 0\n",
        "probing = ht_lp(size=166667)\n",
        "double_h = ht_dh(size=166667)\n",
        "\n",
        "for cap in lf:\n",
        "  elements_no = int(probing.size*cap)\n",
        "  print(cap)\n",
        "  # fill the table to the desired capacity\n",
        "  for i in tqdm(range(prev_el_no, elements_no)):\n",
        "    element = hit_words[i]\n",
        "    probing.insert_element(element)\n",
        "    double_h.insert_element(element)\n",
        "  # perform search\n",
        "  # because we dont want only the ones that did not need collision solving\n",
        "  sampling_indices = np.random.choice(range(elements_no), \n",
        "                                      size=100, replace=False)\n",
        "  miss_probing = np.zeros(100)\n",
        "  hit_probing = np.zeros(100)\n",
        "  miss_dh = np.zeros(100)\n",
        "  hit_dh = np.zeros(100)\n",
        "  for i in tqdm(range(100)):\n",
        "    idx = sampling_indices[i]\n",
        "    _, hit_probing[i] = probing.find_element(hit_words[idx])\n",
        "    _, miss_probing[i] = probing.find_element(miss_words[idx])\n",
        "    _, hit_dh[i] = double_h.find_element(hit_words[idx])\n",
        "    _, miss_dh[i] = double_h.find_element(miss_words[idx])\n",
        "  lp_counts_miss.append(miss_probing.mean())\n",
        "  lp_counts_hit.append(hit_probing.mean())\n",
        "  dh_counts_miss.append(miss_dh.mean())\n",
        "  dh_counts_hit.append(hit_dh.mean())\n",
        "  prev_el_no = elements_no"
      ],
      "metadata": {
        "id": "dgVIo_jAfJQq",
        "colab": {
          "base_uri": "https://localhost:8080/"
        },
        "outputId": "c55cca25-4a1b-43db-ad97-130b83e9f2de"
      },
      "execution_count": null,
      "outputs": [
        {
          "output_type": "stream",
          "name": "stdout",
          "text": [
            "0.5\n"
          ]
        },
        {
          "output_type": "stream",
          "name": "stderr",
          "text": [
            "100%|██████████| 83333/83333 [06:17<00:00, 220.87it/s]\n",
            "100%|██████████| 100/100 [00:12<00:00,  8.11it/s]\n"
          ]
        },
        {
          "output_type": "stream",
          "name": "stdout",
          "text": [
            "0.6\n"
          ]
        },
        {
          "output_type": "stream",
          "name": "stderr",
          "text": [
            "100%|██████████| 16667/16667 [03:40<00:00, 75.68it/s]\n",
            "100%|██████████| 100/100 [00:12<00:00,  7.95it/s]\n"
          ]
        },
        {
          "output_type": "stream",
          "name": "stdout",
          "text": [
            "0.7\n"
          ]
        },
        {
          "output_type": "stream",
          "name": "stderr",
          "text": [
            "100%|██████████| 16666/16666 [04:34<00:00, 60.75it/s]\n",
            "100%|██████████| 100/100 [00:13<00:00,  7.69it/s]\n"
          ]
        },
        {
          "output_type": "stream",
          "name": "stdout",
          "text": [
            "0.8\n"
          ]
        },
        {
          "output_type": "stream",
          "name": "stderr",
          "text": [
            "100%|██████████| 16667/16667 [06:41<00:00, 41.54it/s]\n",
            "100%|██████████| 100/100 [00:13<00:00,  7.32it/s]\n"
          ]
        },
        {
          "output_type": "stream",
          "name": "stdout",
          "text": [
            "0.9\n"
          ]
        },
        {
          "output_type": "stream",
          "name": "stderr",
          "text": [
            "100%|██████████| 16667/16667 [07:49<00:00, 35.52it/s]\n",
            "100%|██████████| 100/100 [00:13<00:00,  7.21it/s]\n"
          ]
        }
      ]
    },
    {
      "cell_type": "code",
      "source": [
        "del hit_words, miss_words # for memory's sake"
      ],
      "metadata": {
        "id": "PMJpf_1KG97N"
      },
      "execution_count": null,
      "outputs": []
    },
    {
      "cell_type": "code",
      "source": [
        "df = {}\n",
        "# Linear probing\n",
        "data = dict(zip(tasks, [lp_counts_hit, lp_counts_miss]), index= load_factors)\n",
        "df[methods[0]] = pd.DataFrame.from_dict(data)\n",
        "df[methods[0]].rename(columns = {'index':'load factor'}, inplace=True)\n",
        "df[methods[0]].set_index('load factor', inplace=True)\n",
        "# Double hashing\n",
        "data = dict(zip(tasks, [dh_counts_hit, dh_counts_miss]), index= load_factors)\n",
        "df[methods[1]] = pd.DataFrame.from_dict(data)\n",
        "df[methods[1]].rename(columns = {'index':'load factor'}, inplace=True)\n",
        "df[methods[1]].set_index('load factor', inplace=True)\n",
        "\n",
        "df = pd.concat(df, axis=1)\n",
        "df"
      ],
      "metadata": {
        "colab": {
          "base_uri": "https://localhost:8080/",
          "height": 269
        },
        "id": "ACVDRqDzdx9s",
        "outputId": "1718cd60-36c3-408c-deb0-ce2796255bf7"
      },
      "execution_count": null,
      "outputs": [
        {
          "output_type": "execute_result",
          "data": {
            "text/plain": [
              "            Linear probing             Double hashing            \n",
              "                search hit search miss     search hit search miss\n",
              "load factor                                                      \n",
              "50%                7140.81    166668.0        5343.14    166668.0\n",
              "60%                9804.51    166668.0        6534.08    166668.0\n",
              "70%               12298.85    166668.0        8605.33    166668.0\n",
              "80%               13789.52    166668.0        9991.13    166668.0\n",
              "90%               16719.68    166668.0       11315.71    166668.0"
            ],
            "text/html": [
              "\n",
              "  <div id=\"df-f8996cb1-d97c-44c9-a9e2-11ecfbf99231\">\n",
              "    <div class=\"colab-df-container\">\n",
              "      <div>\n",
              "<style scoped>\n",
              "    .dataframe tbody tr th:only-of-type {\n",
              "        vertical-align: middle;\n",
              "    }\n",
              "\n",
              "    .dataframe tbody tr th {\n",
              "        vertical-align: top;\n",
              "    }\n",
              "\n",
              "    .dataframe thead tr th {\n",
              "        text-align: left;\n",
              "    }\n",
              "\n",
              "    .dataframe thead tr:last-of-type th {\n",
              "        text-align: right;\n",
              "    }\n",
              "</style>\n",
              "<table border=\"1\" class=\"dataframe\">\n",
              "  <thead>\n",
              "    <tr>\n",
              "      <th></th>\n",
              "      <th colspan=\"2\" halign=\"left\">Linear probing</th>\n",
              "      <th colspan=\"2\" halign=\"left\">Double hashing</th>\n",
              "    </tr>\n",
              "    <tr>\n",
              "      <th></th>\n",
              "      <th>search hit</th>\n",
              "      <th>search miss</th>\n",
              "      <th>search hit</th>\n",
              "      <th>search miss</th>\n",
              "    </tr>\n",
              "    <tr>\n",
              "      <th>load factor</th>\n",
              "      <th></th>\n",
              "      <th></th>\n",
              "      <th></th>\n",
              "      <th></th>\n",
              "    </tr>\n",
              "  </thead>\n",
              "  <tbody>\n",
              "    <tr>\n",
              "      <th>50%</th>\n",
              "      <td>7140.81</td>\n",
              "      <td>166668.0</td>\n",
              "      <td>5343.14</td>\n",
              "      <td>166668.0</td>\n",
              "    </tr>\n",
              "    <tr>\n",
              "      <th>60%</th>\n",
              "      <td>9804.51</td>\n",
              "      <td>166668.0</td>\n",
              "      <td>6534.08</td>\n",
              "      <td>166668.0</td>\n",
              "    </tr>\n",
              "    <tr>\n",
              "      <th>70%</th>\n",
              "      <td>12298.85</td>\n",
              "      <td>166668.0</td>\n",
              "      <td>8605.33</td>\n",
              "      <td>166668.0</td>\n",
              "    </tr>\n",
              "    <tr>\n",
              "      <th>80%</th>\n",
              "      <td>13789.52</td>\n",
              "      <td>166668.0</td>\n",
              "      <td>9991.13</td>\n",
              "      <td>166668.0</td>\n",
              "    </tr>\n",
              "    <tr>\n",
              "      <th>90%</th>\n",
              "      <td>16719.68</td>\n",
              "      <td>166668.0</td>\n",
              "      <td>11315.71</td>\n",
              "      <td>166668.0</td>\n",
              "    </tr>\n",
              "  </tbody>\n",
              "</table>\n",
              "</div>\n",
              "      <button class=\"colab-df-convert\" onclick=\"convertToInteractive('df-f8996cb1-d97c-44c9-a9e2-11ecfbf99231')\"\n",
              "              title=\"Convert this dataframe to an interactive table.\"\n",
              "              style=\"display:none;\">\n",
              "        \n",
              "  <svg xmlns=\"http://www.w3.org/2000/svg\" height=\"24px\"viewBox=\"0 0 24 24\"\n",
              "       width=\"24px\">\n",
              "    <path d=\"M0 0h24v24H0V0z\" fill=\"none\"/>\n",
              "    <path d=\"M18.56 5.44l.94 2.06.94-2.06 2.06-.94-2.06-.94-.94-2.06-.94 2.06-2.06.94zm-11 1L8.5 8.5l.94-2.06 2.06-.94-2.06-.94L8.5 2.5l-.94 2.06-2.06.94zm10 10l.94 2.06.94-2.06 2.06-.94-2.06-.94-.94-2.06-.94 2.06-2.06.94z\"/><path d=\"M17.41 7.96l-1.37-1.37c-.4-.4-.92-.59-1.43-.59-.52 0-1.04.2-1.43.59L10.3 9.45l-7.72 7.72c-.78.78-.78 2.05 0 2.83L4 21.41c.39.39.9.59 1.41.59.51 0 1.02-.2 1.41-.59l7.78-7.78 2.81-2.81c.8-.78.8-2.07 0-2.86zM5.41 20L4 18.59l7.72-7.72 1.47 1.35L5.41 20z\"/>\n",
              "  </svg>\n",
              "      </button>\n",
              "      \n",
              "  <style>\n",
              "    .colab-df-container {\n",
              "      display:flex;\n",
              "      flex-wrap:wrap;\n",
              "      gap: 12px;\n",
              "    }\n",
              "\n",
              "    .colab-df-convert {\n",
              "      background-color: #E8F0FE;\n",
              "      border: none;\n",
              "      border-radius: 50%;\n",
              "      cursor: pointer;\n",
              "      display: none;\n",
              "      fill: #1967D2;\n",
              "      height: 32px;\n",
              "      padding: 0 0 0 0;\n",
              "      width: 32px;\n",
              "    }\n",
              "\n",
              "    .colab-df-convert:hover {\n",
              "      background-color: #E2EBFA;\n",
              "      box-shadow: 0px 1px 2px rgba(60, 64, 67, 0.3), 0px 1px 3px 1px rgba(60, 64, 67, 0.15);\n",
              "      fill: #174EA6;\n",
              "    }\n",
              "\n",
              "    [theme=dark] .colab-df-convert {\n",
              "      background-color: #3B4455;\n",
              "      fill: #D2E3FC;\n",
              "    }\n",
              "\n",
              "    [theme=dark] .colab-df-convert:hover {\n",
              "      background-color: #434B5C;\n",
              "      box-shadow: 0px 1px 3px 1px rgba(0, 0, 0, 0.15);\n",
              "      filter: drop-shadow(0px 1px 2px rgba(0, 0, 0, 0.3));\n",
              "      fill: #FFFFFF;\n",
              "    }\n",
              "  </style>\n",
              "\n",
              "      <script>\n",
              "        const buttonEl =\n",
              "          document.querySelector('#df-f8996cb1-d97c-44c9-a9e2-11ecfbf99231 button.colab-df-convert');\n",
              "        buttonEl.style.display =\n",
              "          google.colab.kernel.accessAllowed ? 'block' : 'none';\n",
              "\n",
              "        async function convertToInteractive(key) {\n",
              "          const element = document.querySelector('#df-f8996cb1-d97c-44c9-a9e2-11ecfbf99231');\n",
              "          const dataTable =\n",
              "            await google.colab.kernel.invokeFunction('convertToInteractive',\n",
              "                                                     [key], {});\n",
              "          if (!dataTable) return;\n",
              "\n",
              "          const docLinkHtml = 'Like what you see? Visit the ' +\n",
              "            '<a target=\"_blank\" href=https://colab.research.google.com/notebooks/data_table.ipynb>data table notebook</a>'\n",
              "            + ' to learn more about interactive tables.';\n",
              "          element.innerHTML = '';\n",
              "          dataTable['output_type'] = 'display_data';\n",
              "          await google.colab.output.renderOutput(dataTable, element);\n",
              "          const docLink = document.createElement('div');\n",
              "          docLink.innerHTML = docLinkHtml;\n",
              "          element.appendChild(docLink);\n",
              "        }\n",
              "      </script>\n",
              "    </div>\n",
              "  </div>\n",
              "  "
            ]
          },
          "metadata": {},
          "execution_count": 18
        }
      ]
    },
    {
      "cell_type": "markdown",
      "source": [
        "# Phone book"
      ],
      "metadata": {
        "id": "_UvR2dcpPAwy"
      }
    },
    {
      "cell_type": "code",
      "source": [
        "class phonebook(ht_dh):\n",
        "  # insert remains the same cause there may be 2 people with the same name\n",
        "  # and different phone numbers\n",
        "  def __init__(self, size=97, small_prime=37):\n",
        "    super().__init__(size, small_prime)  \n",
        "\n",
        "  def _find_all(self, name):\n",
        "    indices = []\n",
        "    idx = self._hash(name, self.size)\n",
        "    identifier = None\n",
        "    if self.table[idx] is not None:\n",
        "      for key in self.table[idx]:\n",
        "        if key == name:\n",
        "          indices.append(idx)\n",
        "    first_pos = idx\n",
        "\n",
        "    while True:\n",
        "      idx += self._hash_2(name, self.size)\n",
        "      idx = idx % self.size\n",
        "      if idx == first_pos:\n",
        "        break\n",
        "      if self.table[idx] is not None:\n",
        "        for key in self.table[idx]:\n",
        "          if key == name:\n",
        "            indices.append(idx)\n",
        "          break\n",
        "\n",
        "    if len(indices)==0:\n",
        "      print(\"User not found\")\n",
        "    return indices\n",
        "\n",
        "  def find_element(self, name): \n",
        "    if self.is_empty():\n",
        "      print(\"Phonebook is empty\")\n",
        "    indices = self._find_all(name)\n",
        "    for idx in indices:\n",
        "      for key in self.table[idx]:\n",
        "        print(\"User found: \"+key+\" \"+self.table[idx][key])\n",
        "        break\n",
        "\n",
        "  def remove_element(self, element): \n",
        "    idx, _ = self._find_idx(element)\n",
        "    if idx != -1:\n",
        "      self.taken_slots -= 1\n",
        "      self.table[idx] = None\n",
        "      print(\"User removed.\")\n",
        "    else:\n",
        "      print(\"User already not in the data.\")\n",
        "  \n",
        "  def show(self):\n",
        "    for user in self.table:\n",
        "      if user is None:\n",
        "        print(\"XXXXX XXXXXX XXXXXXXXXXX\")\n",
        "      else:\n",
        "        for key in user:\n",
        "          print(key+\": \"+user[key])\n",
        "  "
      ],
      "metadata": {
        "id": "hERrDQIiESAi"
      },
      "execution_count": null,
      "outputs": []
    },
    {
      "cell_type": "markdown",
      "source": [
        "## Generator"
      ],
      "metadata": {
        "id": "MNFdJQx-pF07"
      }
    },
    {
      "cell_type": "code",
      "source": [
        "!pip install names-dataset\n",
        "import numpy as np\n",
        "from names_dataset import NameDataset"
      ],
      "metadata": {
        "id": "z-MDOrAM9Bx6"
      },
      "execution_count": null,
      "outputs": []
    },
    {
      "cell_type": "code",
      "source": [
        "def generate_number(rng):\n",
        "  x = rng.choice(10, size=9).tolist()\n",
        "  x = \"\".join([str(i) for i in x])\n",
        "  x = ' '.join([str(x[i:i+3]) for i in range(0, len(x), 3)])\n",
        "  return x"
      ],
      "metadata": {
        "id": "LSCss9R67Xjb"
      },
      "execution_count": null,
      "outputs": []
    },
    {
      "cell_type": "code",
      "source": [
        "def generate_name(rng, fnames, lnames):\n",
        "  fname = rng.choice(fnames)\n",
        "  lname = rng.choice(lnames)\n",
        "  return fname +\" \"+ lname"
      ],
      "metadata": {
        "id": "W-ZdqbDhAhmJ"
      },
      "execution_count": null,
      "outputs": []
    },
    {
      "cell_type": "code",
      "source": [
        "def generate_person(rng, fnames, lnames):\n",
        "  number = generate_number(rng)\n",
        "  name = generate_name(rng, fnames, lnames)\n",
        "  return {name: number}"
      ],
      "metadata": {
        "id": "3JptBRcePCr9"
      },
      "execution_count": null,
      "outputs": []
    },
    {
      "cell_type": "markdown",
      "source": [
        "### Get people"
      ],
      "metadata": {
        "id": "bBUAqsl_S834"
      }
    },
    {
      "cell_type": "code",
      "source": [
        "nd = NameDataset()"
      ],
      "metadata": {
        "id": "QdUX6oll-itK"
      },
      "execution_count": null,
      "outputs": []
    },
    {
      "cell_type": "code",
      "source": [
        "fname = nd.get_top_names(n=50, gender='Male', country_alpha2='US')[\"US\"][\"M\"]\n",
        "fname.extend(nd.get_top_names(n=50, gender='Female', country_alpha2='US')[\"US\"][\"F\"])\n",
        "lname = nd.get_top_names(n=100, country_alpha2='US',use_first_names=False)[\"US\"]"
      ],
      "metadata": {
        "id": "69-yhfTK-zP3"
      },
      "execution_count": null,
      "outputs": []
    },
    {
      "cell_type": "code",
      "source": [
        "rng = np.random.default_rng(1)"
      ],
      "metadata": {
        "id": "qczCDKB98f6c"
      },
      "execution_count": null,
      "outputs": []
    },
    {
      "cell_type": "code",
      "source": [
        "people = []\n",
        "for i in range(20):\n",
        "  person = generate_person(rng, fname, lname)\n",
        "  print(person)\n",
        "  people.append(person)"
      ],
      "metadata": {
        "colab": {
          "base_uri": "https://localhost:8080/"
        },
        "id": "ers9PCMTBPic",
        "outputId": "30fb1be5-1380-4b0c-9cb6-578621801fdc"
      },
      "execution_count": null,
      "outputs": [
        {
          "output_type": "stream",
          "name": "stdout",
          "text": [
            "{'Matt Ortega': '457 901 892'}\n",
            "{'Katie James': '428 246 500'}\n",
            "{'Oscar Mitchell': '858 347 131'}\n",
            "{'Luis Thomas': '134 925 207'}\n",
            "{'Michelle Vega': '441 979 072'}\n",
            "{'Scott Vazquez': '271 394 521'}\n",
            "{'Jennifer Guerrero': '473 679 407'}\n",
            "{'Anna Ortiz': '430 467 825'}\n",
            "{'Mark Medina': '385 565 970'}\n",
            "{'Tony Diaz': '806 778 158'}\n",
            "{'Steven Marie': '402 868 883'}\n",
            "{'Christina Thomas': '290 862 748'}\n",
            "{'Brian Martinez': '426 688 998'}\n",
            "{'Javier Allen': '438 745 580'}\n",
            "{'Jesus Allen': '499 848 062'}\n",
            "{'Christopher Patel': '782 883 078'}\n",
            "{'Jeff Mendez': '137 306 715'}\n",
            "{'Diana Taylor': '062 546 136'}\n",
            "{'Stephanie Johnson': '075 614 883'}\n",
            "{'Chris Lee': '823 958 179'}\n"
          ]
        }
      ]
    },
    {
      "cell_type": "markdown",
      "source": [
        "Generate additional person outside the phonebook:"
      ],
      "metadata": {
        "id": "VfbKAQ9STG_0"
      }
    },
    {
      "cell_type": "code",
      "source": [
        "person = generate_person(rng, fname, lname)\n",
        "person"
      ],
      "metadata": {
        "colab": {
          "base_uri": "https://localhost:8080/"
        },
        "id": "T-zal-bXNXrA",
        "outputId": "3bd3d3f0-d64f-442f-8a0a-c2cfeb386233"
      },
      "execution_count": null,
      "outputs": [
        {
          "output_type": "execute_result",
          "data": {
            "text/plain": [
              "{'Emily Contreras': '123 082 971'}"
            ]
          },
          "metadata": {},
          "execution_count": 28
        }
      ]
    },
    {
      "cell_type": "markdown",
      "source": [
        "Add people in the phonebook and the person not in it to the search:"
      ],
      "metadata": {
        "id": "B8vdFDKOTMdN"
      }
    },
    {
      "cell_type": "code",
      "source": [
        "searched_users = []\n",
        "\n",
        "for key in people[7]:\n",
        "  searched_users.append(key)\n",
        "\n",
        "for key in people[8]:\n",
        "  searched_users.append(key)\n",
        "\n",
        "for key in person:\n",
        "  searched_users.append(key)"
      ],
      "metadata": {
        "id": "XkLrhSmfGaXq"
      },
      "execution_count": null,
      "outputs": []
    },
    {
      "cell_type": "markdown",
      "source": [
        "## Show phonebook work"
      ],
      "metadata": {
        "id": "NMl0VObbTVVW"
      }
    },
    {
      "cell_type": "code",
      "source": [
        "Phonebook =  phonebook(31, 23)\n",
        "for p in people:\n",
        "  Phonebook.insert_element(p)"
      ],
      "metadata": {
        "id": "nugTEXhyCZuw"
      },
      "execution_count": null,
      "outputs": []
    },
    {
      "cell_type": "code",
      "source": [
        "Phonebook.find_element(searched_users[0])\n",
        "Phonebook.find_element(searched_users[1])\n",
        "Phonebook.find_element(searched_users[2])"
      ],
      "metadata": {
        "colab": {
          "base_uri": "https://localhost:8080/"
        },
        "id": "Icz1RRYJDIPI",
        "outputId": "e6b25c90-8fac-4e2c-a99e-6ad63f658b77"
      },
      "execution_count": null,
      "outputs": [
        {
          "output_type": "stream",
          "name": "stdout",
          "text": [
            "User found: Anna Ortiz 430 467 825\n",
            "User found: Mark Medina 385 565 970\n",
            "User not found\n"
          ]
        }
      ]
    },
    {
      "cell_type": "code",
      "source": [
        "Phonebook.show()"
      ],
      "metadata": {
        "colab": {
          "base_uri": "https://localhost:8080/"
        },
        "id": "E_vr-QdJG62u",
        "outputId": "ca702d7e-aa63-4e3f-dfc0-4526883a8b74"
      },
      "execution_count": null,
      "outputs": [
        {
          "output_type": "stream",
          "name": "stdout",
          "text": [
            "XXXXX XXXXXX XXXXXXXXXXX\n",
            "XXXXX XXXXXX XXXXXXXXXXX\n",
            "Scott Vazquez: 271 394 521\n",
            "Stephanie Johnson: 075 614 883\n",
            "Diana Taylor: 062 546 136\n",
            "Jesus Allen: 499 848 062\n",
            "Christopher Patel: 782 883 078\n",
            "Chris Lee: 823 958 179\n",
            "Tony Diaz: 806 778 158\n",
            "Christina Thomas: 290 862 748\n",
            "Katie James: 428 246 500\n",
            "XXXXX XXXXXX XXXXXXXXXXX\n",
            "Jennifer Guerrero: 473 679 407\n",
            "Luis Thomas: 134 925 207\n",
            "XXXXX XXXXXX XXXXXXXXXXX\n",
            "XXXXX XXXXXX XXXXXXXXXXX\n",
            "Anna Ortiz: 430 467 825\n",
            "Javier Allen: 438 745 580\n",
            "XXXXX XXXXXX XXXXXXXXXXX\n",
            "Mark Medina: 385 565 970\n",
            "XXXXX XXXXXX XXXXXXXXXXX\n",
            "XXXXX XXXXXX XXXXXXXXXXX\n",
            "Jeff Mendez: 137 306 715\n",
            "Brian Martinez: 426 688 998\n",
            "Matt Ortega: 457 901 892\n",
            "Steven Marie: 402 868 883\n",
            "XXXXX XXXXXX XXXXXXXXXXX\n",
            "Oscar Mitchell: 858 347 131\n",
            "XXXXX XXXXXX XXXXXXXXXXX\n",
            "XXXXX XXXXXX XXXXXXXXXXX\n",
            "Michelle Vega: 441 979 072\n"
          ]
        }
      ]
    },
    {
      "cell_type": "code",
      "source": [
        "Phonebook.remove_element(people[7])\n",
        "Phonebook.find_element(searched_users[0])"
      ],
      "metadata": {
        "colab": {
          "base_uri": "https://localhost:8080/"
        },
        "id": "VHBczyMiDLqj",
        "outputId": "439e5535-30db-4222-af3d-9d7cb8c2083c"
      },
      "execution_count": null,
      "outputs": [
        {
          "output_type": "stream",
          "name": "stdout",
          "text": [
            "User removed.\n",
            "User not found\n"
          ]
        }
      ]
    },
    {
      "cell_type": "code",
      "source": [
        "Phonebook.show()"
      ],
      "metadata": {
        "colab": {
          "base_uri": "https://localhost:8080/"
        },
        "id": "9xqd_mEvHANn",
        "outputId": "6d5982ca-b6a4-47a6-dd93-0df3cb5c3f94"
      },
      "execution_count": null,
      "outputs": [
        {
          "output_type": "stream",
          "name": "stdout",
          "text": [
            "XXXXX XXXXXX XXXXXXXXXXX\n",
            "XXXXX XXXXXX XXXXXXXXXXX\n",
            "Scott Vazquez: 271 394 521\n",
            "Stephanie Johnson: 075 614 883\n",
            "Diana Taylor: 062 546 136\n",
            "Jesus Allen: 499 848 062\n",
            "Christopher Patel: 782 883 078\n",
            "Chris Lee: 823 958 179\n",
            "Tony Diaz: 806 778 158\n",
            "Christina Thomas: 290 862 748\n",
            "Katie James: 428 246 500\n",
            "XXXXX XXXXXX XXXXXXXXXXX\n",
            "Jennifer Guerrero: 473 679 407\n",
            "Luis Thomas: 134 925 207\n",
            "XXXXX XXXXXX XXXXXXXXXXX\n",
            "XXXXX XXXXXX XXXXXXXXXXX\n",
            "XXXXX XXXXXX XXXXXXXXXXX\n",
            "Javier Allen: 438 745 580\n",
            "XXXXX XXXXXX XXXXXXXXXXX\n",
            "Mark Medina: 385 565 970\n",
            "XXXXX XXXXXX XXXXXXXXXXX\n",
            "XXXXX XXXXXX XXXXXXXXXXX\n",
            "Jeff Mendez: 137 306 715\n",
            "Brian Martinez: 426 688 998\n",
            "Matt Ortega: 457 901 892\n",
            "Steven Marie: 402 868 883\n",
            "XXXXX XXXXXX XXXXXXXXXXX\n",
            "Oscar Mitchell: 858 347 131\n",
            "XXXXX XXXXXX XXXXXXXXXXX\n",
            "XXXXX XXXXXX XXXXXXXXXXX\n",
            "Michelle Vega: 441 979 072\n"
          ]
        }
      ]
    },
    {
      "cell_type": "code",
      "source": [
        "Phonebook.find_element(searched_users[1])\n",
        "Phonebook.insert_element(person)\n",
        "Phonebook.find_element(searched_users[2])\n",
        "Phonebook.insert_element(person)\n",
        "print(\"Adding another person with the same name and searching again:\")\n",
        "Phonebook.insert_element({searched_users[2]: '123 456 789'})\n",
        "Phonebook.find_element(searched_users[2])"
      ],
      "metadata": {
        "colab": {
          "base_uri": "https://localhost:8080/"
        },
        "id": "NxkkhwBZDSCd",
        "outputId": "488111a8-1363-4cd5-f280-b3bdea7e37a1"
      },
      "execution_count": null,
      "outputs": [
        {
          "output_type": "stream",
          "name": "stdout",
          "text": [
            "User found: Mark Medina 385 565 970\n",
            "User found: Emily Contreras 123 082 971\n",
            "Adding another person with the same name and searching again:\n",
            "User found: Emily Contreras 123 082 971\n",
            "User found: Emily Contreras 123 456 789\n"
          ]
        }
      ]
    },
    {
      "cell_type": "code",
      "source": [
        "Phonebook.show()"
      ],
      "metadata": {
        "colab": {
          "base_uri": "https://localhost:8080/"
        },
        "id": "gQOKISLUUzGf",
        "outputId": "713d12d0-3e65-4d48-d47c-4b77dc0eae82"
      },
      "execution_count": null,
      "outputs": [
        {
          "output_type": "stream",
          "name": "stdout",
          "text": [
            "XXXXX XXXXXX XXXXXXXXXXX\n",
            "XXXXX XXXXXX XXXXXXXXXXX\n",
            "Scott Vazquez: 271 394 521\n",
            "Stephanie Johnson: 075 614 883\n",
            "Diana Taylor: 062 546 136\n",
            "Jesus Allen: 499 848 062\n",
            "Christopher Patel: 782 883 078\n",
            "Chris Lee: 823 958 179\n",
            "Tony Diaz: 806 778 158\n",
            "Christina Thomas: 290 862 748\n",
            "Katie James: 428 246 500\n",
            "Emily Contreras: 123 456 789\n",
            "Jennifer Guerrero: 473 679 407\n",
            "Luis Thomas: 134 925 207\n",
            "XXXXX XXXXXX XXXXXXXXXXX\n",
            "XXXXX XXXXXX XXXXXXXXXXX\n",
            "XXXXX XXXXXX XXXXXXXXXXX\n",
            "Javier Allen: 438 745 580\n",
            "XXXXX XXXXXX XXXXXXXXXXX\n",
            "Mark Medina: 385 565 970\n",
            "XXXXX XXXXXX XXXXXXXXXXX\n",
            "XXXXX XXXXXX XXXXXXXXXXX\n",
            "Jeff Mendez: 137 306 715\n",
            "Brian Martinez: 426 688 998\n",
            "Matt Ortega: 457 901 892\n",
            "Steven Marie: 402 868 883\n",
            "Emily Contreras: 123 082 971\n",
            "Oscar Mitchell: 858 347 131\n",
            "XXXXX XXXXXX XXXXXXXXXXX\n",
            "XXXXX XXXXXX XXXXXXXXXXX\n",
            "Michelle Vega: 441 979 072\n"
          ]
        }
      ]
    }
  ]
}