{
  "nbformat": 4,
  "nbformat_minor": 0,
  "metadata": {
    "colab": {
      "name": "Sorting_algorithms.ipynb",
      "provenance": [],
      "collapsed_sections": []
    },
    "kernelspec": {
      "name": "python3",
      "display_name": "Python 3"
    },
    "language_info": {
      "name": "python"
    }
  },
  "cells": [
    {
      "cell_type": "markdown",
      "source": [
        "Anna Mrukwa  \n",
        "Makrokierunek sem. 6"
      ],
      "metadata": {
        "id": "wxlwORCo5jo3"
      }
    },
    {
      "cell_type": "code",
      "execution_count": 1,
      "metadata": {
        "id": "J1dZx-vhDpp2"
      },
      "outputs": [],
      "source": [
        "import numpy as np\n",
        "import math\n",
        "from time import time\n",
        "import pandas as pd"
      ]
    },
    {
      "cell_type": "markdown",
      "source": [
        "### Arrays preparation"
      ],
      "metadata": {
        "id": "UyjfHFw9n_aa"
      }
    },
    {
      "cell_type": "code",
      "source": [
        "int_arr_size = [800, 1600, 3200, 6400, 12800]\n",
        "str_arr_size = [200, 400, 800, 1600, 3200]"
      ],
      "metadata": {
        "id": "r4HIFD-bn-9Y"
      },
      "execution_count": 2,
      "outputs": []
    },
    {
      "cell_type": "code",
      "source": [
        "int_arrs = []\n",
        "\n",
        "for size in int_arr_size:\n",
        "  x = np.random.choice(range(1000000), size, replace=False)\n",
        "  int_arrs.append(x)"
      ],
      "metadata": {
        "id": "oCRsbPfgDwUs"
      },
      "execution_count": 3,
      "outputs": []
    },
    {
      "cell_type": "code",
      "source": [
        "def check_if_sorted(arr):\n",
        "  n = len(arr)\n",
        "  i = 1\n",
        "  is_sorted = 1\n",
        "  while (i < n) & is_sorted:\n",
        "    if arr[i - 1] > arr[i]:\n",
        "      is_sorted = 0\n",
        "      break\n",
        "    i += 1\n",
        "  return is_sorted\n"
      ],
      "metadata": {
        "id": "4CnzqGLI59HB"
      },
      "execution_count": 4,
      "outputs": []
    },
    {
      "cell_type": "code",
      "source": [
        "from google.colab import drive\n",
        "drive.mount('/content/drive')\n"
      ],
      "metadata": {
        "colab": {
          "base_uri": "https://localhost:8080/"
        },
        "id": "4oyT79LS0p2Z",
        "outputId": "4f512142-ecc6-4f8c-ced4-274839781d07"
      },
      "execution_count": 5,
      "outputs": [
        {
          "output_type": "stream",
          "name": "stdout",
          "text": [
            "Drive already mounted at /content/drive; to attempt to forcibly remount, call drive.mount(\"/content/drive\", force_remount=True).\n"
          ]
        }
      ]
    },
    {
      "cell_type": "code",
      "source": [
        "dictionary = pd.read_csv(\"/content/drive/My Drive/dictionary.txt\")\n",
        "# https://github.com/first20hours/google-10000-english/blob/master/20k.txt"
      ],
      "metadata": {
        "id": "Pia3HRVB2d1p"
      },
      "execution_count": 6,
      "outputs": []
    },
    {
      "cell_type": "code",
      "source": [
        "dictionary.head()"
      ],
      "metadata": {
        "colab": {
          "base_uri": "https://localhost:8080/",
          "height": 206
        },
        "id": "XTuLZcjf29Hx",
        "outputId": "63ec40d6-c92b-4eef-f0f4-6cb79d5af469"
      },
      "execution_count": 7,
      "outputs": [
        {
          "output_type": "execute_result",
          "data": {
            "text/html": [
              "\n",
              "  <div id=\"df-534fc7ae-67ad-4d06-bda1-b316bc5926d6\">\n",
              "    <div class=\"colab-df-container\">\n",
              "      <div>\n",
              "<style scoped>\n",
              "    .dataframe tbody tr th:only-of-type {\n",
              "        vertical-align: middle;\n",
              "    }\n",
              "\n",
              "    .dataframe tbody tr th {\n",
              "        vertical-align: top;\n",
              "    }\n",
              "\n",
              "    .dataframe thead th {\n",
              "        text-align: right;\n",
              "    }\n",
              "</style>\n",
              "<table border=\"1\" class=\"dataframe\">\n",
              "  <thead>\n",
              "    <tr style=\"text-align: right;\">\n",
              "      <th></th>\n",
              "      <th>the</th>\n",
              "    </tr>\n",
              "  </thead>\n",
              "  <tbody>\n",
              "    <tr>\n",
              "      <th>0</th>\n",
              "      <td>of</td>\n",
              "    </tr>\n",
              "    <tr>\n",
              "      <th>1</th>\n",
              "      <td>and</td>\n",
              "    </tr>\n",
              "    <tr>\n",
              "      <th>2</th>\n",
              "      <td>to</td>\n",
              "    </tr>\n",
              "    <tr>\n",
              "      <th>3</th>\n",
              "      <td>a</td>\n",
              "    </tr>\n",
              "    <tr>\n",
              "      <th>4</th>\n",
              "      <td>in</td>\n",
              "    </tr>\n",
              "  </tbody>\n",
              "</table>\n",
              "</div>\n",
              "      <button class=\"colab-df-convert\" onclick=\"convertToInteractive('df-534fc7ae-67ad-4d06-bda1-b316bc5926d6')\"\n",
              "              title=\"Convert this dataframe to an interactive table.\"\n",
              "              style=\"display:none;\">\n",
              "        \n",
              "  <svg xmlns=\"http://www.w3.org/2000/svg\" height=\"24px\"viewBox=\"0 0 24 24\"\n",
              "       width=\"24px\">\n",
              "    <path d=\"M0 0h24v24H0V0z\" fill=\"none\"/>\n",
              "    <path d=\"M18.56 5.44l.94 2.06.94-2.06 2.06-.94-2.06-.94-.94-2.06-.94 2.06-2.06.94zm-11 1L8.5 8.5l.94-2.06 2.06-.94-2.06-.94L8.5 2.5l-.94 2.06-2.06.94zm10 10l.94 2.06.94-2.06 2.06-.94-2.06-.94-.94-2.06-.94 2.06-2.06.94z\"/><path d=\"M17.41 7.96l-1.37-1.37c-.4-.4-.92-.59-1.43-.59-.52 0-1.04.2-1.43.59L10.3 9.45l-7.72 7.72c-.78.78-.78 2.05 0 2.83L4 21.41c.39.39.9.59 1.41.59.51 0 1.02-.2 1.41-.59l7.78-7.78 2.81-2.81c.8-.78.8-2.07 0-2.86zM5.41 20L4 18.59l7.72-7.72 1.47 1.35L5.41 20z\"/>\n",
              "  </svg>\n",
              "      </button>\n",
              "      \n",
              "  <style>\n",
              "    .colab-df-container {\n",
              "      display:flex;\n",
              "      flex-wrap:wrap;\n",
              "      gap: 12px;\n",
              "    }\n",
              "\n",
              "    .colab-df-convert {\n",
              "      background-color: #E8F0FE;\n",
              "      border: none;\n",
              "      border-radius: 50%;\n",
              "      cursor: pointer;\n",
              "      display: none;\n",
              "      fill: #1967D2;\n",
              "      height: 32px;\n",
              "      padding: 0 0 0 0;\n",
              "      width: 32px;\n",
              "    }\n",
              "\n",
              "    .colab-df-convert:hover {\n",
              "      background-color: #E2EBFA;\n",
              "      box-shadow: 0px 1px 2px rgba(60, 64, 67, 0.3), 0px 1px 3px 1px rgba(60, 64, 67, 0.15);\n",
              "      fill: #174EA6;\n",
              "    }\n",
              "\n",
              "    [theme=dark] .colab-df-convert {\n",
              "      background-color: #3B4455;\n",
              "      fill: #D2E3FC;\n",
              "    }\n",
              "\n",
              "    [theme=dark] .colab-df-convert:hover {\n",
              "      background-color: #434B5C;\n",
              "      box-shadow: 0px 1px 3px 1px rgba(0, 0, 0, 0.15);\n",
              "      filter: drop-shadow(0px 1px 2px rgba(0, 0, 0, 0.3));\n",
              "      fill: #FFFFFF;\n",
              "    }\n",
              "  </style>\n",
              "\n",
              "      <script>\n",
              "        const buttonEl =\n",
              "          document.querySelector('#df-534fc7ae-67ad-4d06-bda1-b316bc5926d6 button.colab-df-convert');\n",
              "        buttonEl.style.display =\n",
              "          google.colab.kernel.accessAllowed ? 'block' : 'none';\n",
              "\n",
              "        async function convertToInteractive(key) {\n",
              "          const element = document.querySelector('#df-534fc7ae-67ad-4d06-bda1-b316bc5926d6');\n",
              "          const dataTable =\n",
              "            await google.colab.kernel.invokeFunction('convertToInteractive',\n",
              "                                                     [key], {});\n",
              "          if (!dataTable) return;\n",
              "\n",
              "          const docLinkHtml = 'Like what you see? Visit the ' +\n",
              "            '<a target=\"_blank\" href=https://colab.research.google.com/notebooks/data_table.ipynb>data table notebook</a>'\n",
              "            + ' to learn more about interactive tables.';\n",
              "          element.innerHTML = '';\n",
              "          dataTable['output_type'] = 'display_data';\n",
              "          await google.colab.output.renderOutput(dataTable, element);\n",
              "          const docLink = document.createElement('div');\n",
              "          docLink.innerHTML = docLinkHtml;\n",
              "          element.appendChild(docLink);\n",
              "        }\n",
              "      </script>\n",
              "    </div>\n",
              "  </div>\n",
              "  "
            ],
            "text/plain": [
              "   the\n",
              "0   of\n",
              "1  and\n",
              "2   to\n",
              "3    a\n",
              "4   in"
            ]
          },
          "metadata": {},
          "execution_count": 7
        }
      ]
    },
    {
      "cell_type": "code",
      "source": [
        "dictionary = dictionary.to_numpy().flatten()\n",
        "dictionary.shape"
      ],
      "metadata": {
        "colab": {
          "base_uri": "https://localhost:8080/"
        },
        "id": "IUJICh7P2_qY",
        "outputId": "dc7b3dbc-c0c7-41b2-cbd2-f0e89f25223f"
      },
      "execution_count": 8,
      "outputs": [
        {
          "output_type": "execute_result",
          "data": {
            "text/plain": [
              "(19999,)"
            ]
          },
          "metadata": {},
          "execution_count": 8
        }
      ]
    },
    {
      "cell_type": "code",
      "source": [
        "dictionary[0:5]"
      ],
      "metadata": {
        "colab": {
          "base_uri": "https://localhost:8080/"
        },
        "id": "pgTidbOd3NY_",
        "outputId": "3d93bd96-34d2-4378-9b03-1fdcf0bbf8e2"
      },
      "execution_count": 9,
      "outputs": [
        {
          "output_type": "execute_result",
          "data": {
            "text/plain": [
              "array(['of', 'and', 'to', 'a', 'in'], dtype=object)"
            ]
          },
          "metadata": {},
          "execution_count": 9
        }
      ]
    },
    {
      "cell_type": "code",
      "source": [
        "str_arrs = []\n",
        "\n",
        "for size in str_arr_size:\n",
        "  x = np.random.choice(dictionary, size, replace=False)\n",
        "  str_arrs.append(x)"
      ],
      "metadata": {
        "id": "yRInEOto3Wyj"
      },
      "execution_count": 10,
      "outputs": []
    },
    {
      "cell_type": "markdown",
      "source": [
        "### Selection sort"
      ],
      "metadata": {
        "id": "Rcjd0v3Z-z3e"
      }
    },
    {
      "cell_type": "code",
      "source": [
        "def selection_sort(arr):\n",
        "  t0 = time()\n",
        "  element_no = arr.size\n",
        "  for i in range(element_no):\n",
        "    # find min index in unsorted part of the array\n",
        "    min_idx = i\n",
        "    for j in range(i, element_no):\n",
        "      if arr[j] < arr[min_idx]:\n",
        "        min_idx = j\n",
        "    # swap the position of the first element in unsorted with the minimum\n",
        "    arr[i], arr[min_idx] = arr[min_idx], arr[i]\n",
        "  return arr, time() - t0"
      ],
      "metadata": {
        "id": "yDmYKVlZKBGe"
      },
      "execution_count": 11,
      "outputs": []
    },
    {
      "cell_type": "markdown",
      "source": [
        "### Insertion sort"
      ],
      "metadata": {
        "id": "2ksB6qSmKB_n"
      }
    },
    {
      "cell_type": "code",
      "source": [
        "def insertion_sort(arr):\n",
        "  t0 = time()\n",
        "  element_no = arr.size\n",
        "  for i in range(1, element_no): # because 0th element does not have predecessors\n",
        "    element = arr[i]\n",
        "    j = i -1\n",
        "    while element < arr[j] and j >= 0:\n",
        "      arr[j+1] = arr[j]\n",
        "      j = j - 1\n",
        "    arr[j+1] = element # because of the last decrement\n",
        "  return arr, time() - t0"
      ],
      "metadata": {
        "id": "_oYXdVZkNUib"
      },
      "execution_count": 12,
      "outputs": []
    },
    {
      "cell_type": "code",
      "source": [
        "def binary_search(arr, item, high, low=0):\n",
        "  while low <= high:\n",
        "    mid = low + (high - low) // 2\n",
        "    if item == arr[mid]:\n",
        "      return mid\n",
        "    if item > arr[mid]:\n",
        "      low = mid + 1\n",
        "    else:\n",
        "      high = mid - 1\n",
        "  return low # biggest smaller element\n",
        "\n",
        "\n",
        "def binary_insertion_sort(arr):\n",
        "  t0 = time()\n",
        "  element_no = arr.size\n",
        "  for i in range(1, element_no):\n",
        "    element = arr[i]\n",
        "    i = i - 1\n",
        "    position = binary_search(arr, element, i)\n",
        "    while (i >= position):\n",
        "      arr[i+1] = arr[i]\n",
        "      i = i -1\n",
        "    arr[i+1] = element\n",
        "  \n",
        "  return arr, time() - t0"
      ],
      "metadata": {
        "id": "0McPecDTFpvc"
      },
      "execution_count": 13,
      "outputs": []
    },
    {
      "cell_type": "markdown",
      "source": [
        "### Bubble sort"
      ],
      "metadata": {
        "id": "3OsiZ7JJ-7cv"
      }
    },
    {
      "cell_type": "code",
      "source": [
        "def bubble_sort_0(arr):\n",
        "  t0 = time()\n",
        "  element_no = arr.size -1\n",
        "  for i in range(element_no):\n",
        "    for j in range(element_no - 1):\n",
        "      if arr[j] > arr[j+1]:\n",
        "        arr[j], arr[j+1] = arr[j+1], arr[j]\n",
        "  return arr, time() - t0"
      ],
      "metadata": {
        "id": "OBVVLZzhB6k_"
      },
      "execution_count": 14,
      "outputs": []
    },
    {
      "cell_type": "code",
      "source": [
        "def bubble_sort_1(arr):\n",
        "  t0 = time()\n",
        "  max_idx = arr.size -1\n",
        "  swapped = True\n",
        "  while swapped:\n",
        "    swapped = False\n",
        "    for i in range(max_idx - 1): # cause last idx does not have successor\n",
        "      if arr[i] > arr[i+1]:\n",
        "        swapped = True\n",
        "        arr[i], arr[i+1] = arr[i+1], arr[i]\n",
        "  return arr, time() - t0"
      ],
      "metadata": {
        "id": "IZsYJ6UuBTaU"
      },
      "execution_count": 15,
      "outputs": []
    },
    {
      "cell_type": "code",
      "source": [
        "def cocktail_sort(arr):\n",
        "  # no need to check first and last element more than once \n",
        "  t0 = time()\n",
        "  lower = 0\n",
        "  upper = arr.size -1\n",
        "  swapped = True\n",
        "  while lower <= upper and swapped:\n",
        "    swapped = False\n",
        "    for up in range(lower, upper):\n",
        "      if arr[up] > arr[up+1]:\n",
        "        swapped = True\n",
        "        arr[up], arr[up+1] = arr[up+1], arr[up]\n",
        "        upper = up\n",
        "    if not swapped:\n",
        "      break\n",
        "    swapped = False\n",
        "    for low in range(upper-1, lower-1, -1):\n",
        "      if arr[low] > arr[low+1]:\n",
        "        swapped = True\n",
        "        arr[low], arr[low+1] = arr[low+1], arr[low]\n",
        "        lower = low\n",
        "  return arr, time() - t0"
      ],
      "metadata": {
        "id": "uXgJ7AF3gKmJ"
      },
      "execution_count": 16,
      "outputs": []
    },
    {
      "cell_type": "markdown",
      "source": [
        "### Methods comparison"
      ],
      "metadata": {
        "id": "2PVj3uzxorWk"
      }
    },
    {
      "cell_type": "code",
      "source": [
        "alg_names = [\"Selection\", \"Insertion\", \"Binary Insertion\", \"Bubble\", \"Improved Bubble\", \"Cocktail\"]"
      ],
      "metadata": {
        "id": "Sk1_ck9Xo6Nf"
      },
      "execution_count": 17,
      "outputs": []
    },
    {
      "cell_type": "code",
      "source": [
        "def check_arr_results(arr):\n",
        "  methods = [selection_sort, insertion_sort, binary_insertion_sort, bubble_sort_0, bubble_sort_1, cocktail_sort]\n",
        "  times = []\n",
        "  for method in methods:\n",
        "    sorted, t = method(arr)\n",
        "    assert check_if_sorted(arr)\n",
        "    times.append(t)\n",
        "  return times"
      ],
      "metadata": {
        "id": "mQcxz5HmqA1g"
      },
      "execution_count": 18,
      "outputs": []
    },
    {
      "cell_type": "markdown",
      "source": [
        "#### Integers"
      ],
      "metadata": {
        "id": "tQ7ZOtNmour3"
      }
    },
    {
      "cell_type": "code",
      "source": [
        "times_lists = []\n",
        "for int_arr in int_arrs:\n",
        "  times = check_arr_results(int_arr)\n",
        "  times_lists.append(times)"
      ],
      "metadata": {
        "id": "6O3tyiHlNJNf"
      },
      "execution_count": 19,
      "outputs": []
    },
    {
      "cell_type": "code",
      "source": [
        "keys = int_arr_size\n",
        "values = times_lists\n",
        "data = dict(zip(int_arr_size, values))\n",
        "df = pd.DataFrame.from_dict(data)"
      ],
      "metadata": {
        "id": "CVk6WqS7N0KL"
      },
      "execution_count": 20,
      "outputs": []
    },
    {
      "cell_type": "code",
      "source": [
        "df.index = alg_names\n",
        "df"
      ],
      "metadata": {
        "id": "pu4v5N2gowwH",
        "colab": {
          "base_uri": "https://localhost:8080/",
          "height": 238
        },
        "outputId": "1571befd-e3f8-4adf-de51-951e70469d19"
      },
      "execution_count": 21,
      "outputs": [
        {
          "output_type": "execute_result",
          "data": {
            "text/html": [
              "\n",
              "  <div id=\"df-7aa7e995-6966-4666-9577-d04487e25867\">\n",
              "    <div class=\"colab-df-container\">\n",
              "      <div>\n",
              "<style scoped>\n",
              "    .dataframe tbody tr th:only-of-type {\n",
              "        vertical-align: middle;\n",
              "    }\n",
              "\n",
              "    .dataframe tbody tr th {\n",
              "        vertical-align: top;\n",
              "    }\n",
              "\n",
              "    .dataframe thead th {\n",
              "        text-align: right;\n",
              "    }\n",
              "</style>\n",
              "<table border=\"1\" class=\"dataframe\">\n",
              "  <thead>\n",
              "    <tr style=\"text-align: right;\">\n",
              "      <th></th>\n",
              "      <th>800</th>\n",
              "      <th>1600</th>\n",
              "      <th>3200</th>\n",
              "      <th>6400</th>\n",
              "      <th>12800</th>\n",
              "    </tr>\n",
              "  </thead>\n",
              "  <tbody>\n",
              "    <tr>\n",
              "      <th>Selection</th>\n",
              "      <td>0.161974</td>\n",
              "      <td>0.860972</td>\n",
              "      <td>3.061273</td>\n",
              "      <td>4.882345</td>\n",
              "      <td>19.567100</td>\n",
              "    </tr>\n",
              "    <tr>\n",
              "      <th>Insertion</th>\n",
              "      <td>0.000595</td>\n",
              "      <td>0.009720</td>\n",
              "      <td>0.001979</td>\n",
              "      <td>0.002703</td>\n",
              "      <td>0.005494</td>\n",
              "    </tr>\n",
              "    <tr>\n",
              "      <th>Binary Insertion</th>\n",
              "      <td>0.006200</td>\n",
              "      <td>0.014012</td>\n",
              "      <td>0.028309</td>\n",
              "      <td>0.035440</td>\n",
              "      <td>0.083623</td>\n",
              "    </tr>\n",
              "    <tr>\n",
              "      <th>Bubble</th>\n",
              "      <td>0.424213</td>\n",
              "      <td>1.562189</td>\n",
              "      <td>7.511416</td>\n",
              "      <td>10.268354</td>\n",
              "      <td>41.305371</td>\n",
              "    </tr>\n",
              "    <tr>\n",
              "      <th>Improved Bubble</th>\n",
              "      <td>0.000372</td>\n",
              "      <td>0.000828</td>\n",
              "      <td>0.001628</td>\n",
              "      <td>0.001554</td>\n",
              "      <td>0.003308</td>\n",
              "    </tr>\n",
              "    <tr>\n",
              "      <th>Cocktail</th>\n",
              "      <td>0.000376</td>\n",
              "      <td>0.000848</td>\n",
              "      <td>0.001214</td>\n",
              "      <td>0.001601</td>\n",
              "      <td>0.003162</td>\n",
              "    </tr>\n",
              "  </tbody>\n",
              "</table>\n",
              "</div>\n",
              "      <button class=\"colab-df-convert\" onclick=\"convertToInteractive('df-7aa7e995-6966-4666-9577-d04487e25867')\"\n",
              "              title=\"Convert this dataframe to an interactive table.\"\n",
              "              style=\"display:none;\">\n",
              "        \n",
              "  <svg xmlns=\"http://www.w3.org/2000/svg\" height=\"24px\"viewBox=\"0 0 24 24\"\n",
              "       width=\"24px\">\n",
              "    <path d=\"M0 0h24v24H0V0z\" fill=\"none\"/>\n",
              "    <path d=\"M18.56 5.44l.94 2.06.94-2.06 2.06-.94-2.06-.94-.94-2.06-.94 2.06-2.06.94zm-11 1L8.5 8.5l.94-2.06 2.06-.94-2.06-.94L8.5 2.5l-.94 2.06-2.06.94zm10 10l.94 2.06.94-2.06 2.06-.94-2.06-.94-.94-2.06-.94 2.06-2.06.94z\"/><path d=\"M17.41 7.96l-1.37-1.37c-.4-.4-.92-.59-1.43-.59-.52 0-1.04.2-1.43.59L10.3 9.45l-7.72 7.72c-.78.78-.78 2.05 0 2.83L4 21.41c.39.39.9.59 1.41.59.51 0 1.02-.2 1.41-.59l7.78-7.78 2.81-2.81c.8-.78.8-2.07 0-2.86zM5.41 20L4 18.59l7.72-7.72 1.47 1.35L5.41 20z\"/>\n",
              "  </svg>\n",
              "      </button>\n",
              "      \n",
              "  <style>\n",
              "    .colab-df-container {\n",
              "      display:flex;\n",
              "      flex-wrap:wrap;\n",
              "      gap: 12px;\n",
              "    }\n",
              "\n",
              "    .colab-df-convert {\n",
              "      background-color: #E8F0FE;\n",
              "      border: none;\n",
              "      border-radius: 50%;\n",
              "      cursor: pointer;\n",
              "      display: none;\n",
              "      fill: #1967D2;\n",
              "      height: 32px;\n",
              "      padding: 0 0 0 0;\n",
              "      width: 32px;\n",
              "    }\n",
              "\n",
              "    .colab-df-convert:hover {\n",
              "      background-color: #E2EBFA;\n",
              "      box-shadow: 0px 1px 2px rgba(60, 64, 67, 0.3), 0px 1px 3px 1px rgba(60, 64, 67, 0.15);\n",
              "      fill: #174EA6;\n",
              "    }\n",
              "\n",
              "    [theme=dark] .colab-df-convert {\n",
              "      background-color: #3B4455;\n",
              "      fill: #D2E3FC;\n",
              "    }\n",
              "\n",
              "    [theme=dark] .colab-df-convert:hover {\n",
              "      background-color: #434B5C;\n",
              "      box-shadow: 0px 1px 3px 1px rgba(0, 0, 0, 0.15);\n",
              "      filter: drop-shadow(0px 1px 2px rgba(0, 0, 0, 0.3));\n",
              "      fill: #FFFFFF;\n",
              "    }\n",
              "  </style>\n",
              "\n",
              "      <script>\n",
              "        const buttonEl =\n",
              "          document.querySelector('#df-7aa7e995-6966-4666-9577-d04487e25867 button.colab-df-convert');\n",
              "        buttonEl.style.display =\n",
              "          google.colab.kernel.accessAllowed ? 'block' : 'none';\n",
              "\n",
              "        async function convertToInteractive(key) {\n",
              "          const element = document.querySelector('#df-7aa7e995-6966-4666-9577-d04487e25867');\n",
              "          const dataTable =\n",
              "            await google.colab.kernel.invokeFunction('convertToInteractive',\n",
              "                                                     [key], {});\n",
              "          if (!dataTable) return;\n",
              "\n",
              "          const docLinkHtml = 'Like what you see? Visit the ' +\n",
              "            '<a target=\"_blank\" href=https://colab.research.google.com/notebooks/data_table.ipynb>data table notebook</a>'\n",
              "            + ' to learn more about interactive tables.';\n",
              "          element.innerHTML = '';\n",
              "          dataTable['output_type'] = 'display_data';\n",
              "          await google.colab.output.renderOutput(dataTable, element);\n",
              "          const docLink = document.createElement('div');\n",
              "          docLink.innerHTML = docLinkHtml;\n",
              "          element.appendChild(docLink);\n",
              "        }\n",
              "      </script>\n",
              "    </div>\n",
              "  </div>\n",
              "  "
            ],
            "text/plain": [
              "                     800       1600      3200       6400       12800\n",
              "Selection         0.161974  0.860972  3.061273   4.882345  19.567100\n",
              "Insertion         0.000595  0.009720  0.001979   0.002703   0.005494\n",
              "Binary Insertion  0.006200  0.014012  0.028309   0.035440   0.083623\n",
              "Bubble            0.424213  1.562189  7.511416  10.268354  41.305371\n",
              "Improved Bubble   0.000372  0.000828  0.001628   0.001554   0.003308\n",
              "Cocktail          0.000376  0.000848  0.001214   0.001601   0.003162"
            ]
          },
          "metadata": {},
          "execution_count": 21
        }
      ]
    },
    {
      "cell_type": "markdown",
      "source": [
        "#### Strings"
      ],
      "metadata": {
        "id": "W-DqPY_poxyt"
      }
    },
    {
      "cell_type": "code",
      "source": [
        "times_lists = []\n",
        "for str_arr in str_arrs:\n",
        "  times = check_arr_results(str_arr)\n",
        "  times_lists.append(times)"
      ],
      "metadata": {
        "id": "PZdpfcqNoz3y"
      },
      "execution_count": 22,
      "outputs": []
    },
    {
      "cell_type": "code",
      "source": [
        "keys = int_arr_size\n",
        "values = times_lists\n",
        "data = dict(zip(int_arr_size, values))\n",
        "df = pd.DataFrame.from_dict(data)\n",
        "df.index = alg_names\n",
        "df"
      ],
      "metadata": {
        "colab": {
          "base_uri": "https://localhost:8080/",
          "height": 238
        },
        "id": "fUuJeAaQ2R4X",
        "outputId": "7aa888ce-ea23-4b51-ba78-b67a53db2f34"
      },
      "execution_count": 23,
      "outputs": [
        {
          "output_type": "execute_result",
          "data": {
            "text/html": [
              "\n",
              "  <div id=\"df-7513475d-bc27-43ba-91b7-d71451e9ada8\">\n",
              "    <div class=\"colab-df-container\">\n",
              "      <div>\n",
              "<style scoped>\n",
              "    .dataframe tbody tr th:only-of-type {\n",
              "        vertical-align: middle;\n",
              "    }\n",
              "\n",
              "    .dataframe tbody tr th {\n",
              "        vertical-align: top;\n",
              "    }\n",
              "\n",
              "    .dataframe thead th {\n",
              "        text-align: right;\n",
              "    }\n",
              "</style>\n",
              "<table border=\"1\" class=\"dataframe\">\n",
              "  <thead>\n",
              "    <tr style=\"text-align: right;\">\n",
              "      <th></th>\n",
              "      <th>800</th>\n",
              "      <th>1600</th>\n",
              "      <th>3200</th>\n",
              "      <th>6400</th>\n",
              "      <th>12800</th>\n",
              "    </tr>\n",
              "  </thead>\n",
              "  <tbody>\n",
              "    <tr>\n",
              "      <th>Selection</th>\n",
              "      <td>0.003782</td>\n",
              "      <td>0.020357</td>\n",
              "      <td>0.061228</td>\n",
              "      <td>0.260836</td>\n",
              "      <td>1.034213</td>\n",
              "    </tr>\n",
              "    <tr>\n",
              "      <th>Insertion</th>\n",
              "      <td>0.000065</td>\n",
              "      <td>0.000139</td>\n",
              "      <td>0.000278</td>\n",
              "      <td>0.000578</td>\n",
              "      <td>0.001327</td>\n",
              "    </tr>\n",
              "    <tr>\n",
              "      <th>Binary Insertion</th>\n",
              "      <td>0.000536</td>\n",
              "      <td>0.001178</td>\n",
              "      <td>0.002752</td>\n",
              "      <td>0.006171</td>\n",
              "      <td>0.014224</td>\n",
              "    </tr>\n",
              "    <tr>\n",
              "      <th>Bubble</th>\n",
              "      <td>0.008752</td>\n",
              "      <td>0.031888</td>\n",
              "      <td>0.128509</td>\n",
              "      <td>0.536348</td>\n",
              "      <td>2.139967</td>\n",
              "    </tr>\n",
              "    <tr>\n",
              "      <th>Improved Bubble</th>\n",
              "      <td>0.000049</td>\n",
              "      <td>0.000081</td>\n",
              "      <td>0.000159</td>\n",
              "      <td>0.000640</td>\n",
              "      <td>0.000650</td>\n",
              "    </tr>\n",
              "    <tr>\n",
              "      <th>Cocktail</th>\n",
              "      <td>0.000039</td>\n",
              "      <td>0.000079</td>\n",
              "      <td>0.000164</td>\n",
              "      <td>0.000410</td>\n",
              "      <td>0.000649</td>\n",
              "    </tr>\n",
              "  </tbody>\n",
              "</table>\n",
              "</div>\n",
              "      <button class=\"colab-df-convert\" onclick=\"convertToInteractive('df-7513475d-bc27-43ba-91b7-d71451e9ada8')\"\n",
              "              title=\"Convert this dataframe to an interactive table.\"\n",
              "              style=\"display:none;\">\n",
              "        \n",
              "  <svg xmlns=\"http://www.w3.org/2000/svg\" height=\"24px\"viewBox=\"0 0 24 24\"\n",
              "       width=\"24px\">\n",
              "    <path d=\"M0 0h24v24H0V0z\" fill=\"none\"/>\n",
              "    <path d=\"M18.56 5.44l.94 2.06.94-2.06 2.06-.94-2.06-.94-.94-2.06-.94 2.06-2.06.94zm-11 1L8.5 8.5l.94-2.06 2.06-.94-2.06-.94L8.5 2.5l-.94 2.06-2.06.94zm10 10l.94 2.06.94-2.06 2.06-.94-2.06-.94-.94-2.06-.94 2.06-2.06.94z\"/><path d=\"M17.41 7.96l-1.37-1.37c-.4-.4-.92-.59-1.43-.59-.52 0-1.04.2-1.43.59L10.3 9.45l-7.72 7.72c-.78.78-.78 2.05 0 2.83L4 21.41c.39.39.9.59 1.41.59.51 0 1.02-.2 1.41-.59l7.78-7.78 2.81-2.81c.8-.78.8-2.07 0-2.86zM5.41 20L4 18.59l7.72-7.72 1.47 1.35L5.41 20z\"/>\n",
              "  </svg>\n",
              "      </button>\n",
              "      \n",
              "  <style>\n",
              "    .colab-df-container {\n",
              "      display:flex;\n",
              "      flex-wrap:wrap;\n",
              "      gap: 12px;\n",
              "    }\n",
              "\n",
              "    .colab-df-convert {\n",
              "      background-color: #E8F0FE;\n",
              "      border: none;\n",
              "      border-radius: 50%;\n",
              "      cursor: pointer;\n",
              "      display: none;\n",
              "      fill: #1967D2;\n",
              "      height: 32px;\n",
              "      padding: 0 0 0 0;\n",
              "      width: 32px;\n",
              "    }\n",
              "\n",
              "    .colab-df-convert:hover {\n",
              "      background-color: #E2EBFA;\n",
              "      box-shadow: 0px 1px 2px rgba(60, 64, 67, 0.3), 0px 1px 3px 1px rgba(60, 64, 67, 0.15);\n",
              "      fill: #174EA6;\n",
              "    }\n",
              "\n",
              "    [theme=dark] .colab-df-convert {\n",
              "      background-color: #3B4455;\n",
              "      fill: #D2E3FC;\n",
              "    }\n",
              "\n",
              "    [theme=dark] .colab-df-convert:hover {\n",
              "      background-color: #434B5C;\n",
              "      box-shadow: 0px 1px 3px 1px rgba(0, 0, 0, 0.15);\n",
              "      filter: drop-shadow(0px 1px 2px rgba(0, 0, 0, 0.3));\n",
              "      fill: #FFFFFF;\n",
              "    }\n",
              "  </style>\n",
              "\n",
              "      <script>\n",
              "        const buttonEl =\n",
              "          document.querySelector('#df-7513475d-bc27-43ba-91b7-d71451e9ada8 button.colab-df-convert');\n",
              "        buttonEl.style.display =\n",
              "          google.colab.kernel.accessAllowed ? 'block' : 'none';\n",
              "\n",
              "        async function convertToInteractive(key) {\n",
              "          const element = document.querySelector('#df-7513475d-bc27-43ba-91b7-d71451e9ada8');\n",
              "          const dataTable =\n",
              "            await google.colab.kernel.invokeFunction('convertToInteractive',\n",
              "                                                     [key], {});\n",
              "          if (!dataTable) return;\n",
              "\n",
              "          const docLinkHtml = 'Like what you see? Visit the ' +\n",
              "            '<a target=\"_blank\" href=https://colab.research.google.com/notebooks/data_table.ipynb>data table notebook</a>'\n",
              "            + ' to learn more about interactive tables.';\n",
              "          element.innerHTML = '';\n",
              "          dataTable['output_type'] = 'display_data';\n",
              "          await google.colab.output.renderOutput(dataTable, element);\n",
              "          const docLink = document.createElement('div');\n",
              "          docLink.innerHTML = docLinkHtml;\n",
              "          element.appendChild(docLink);\n",
              "        }\n",
              "      </script>\n",
              "    </div>\n",
              "  </div>\n",
              "  "
            ],
            "text/plain": [
              "                     800       1600      3200      6400      12800\n",
              "Selection         0.003782  0.020357  0.061228  0.260836  1.034213\n",
              "Insertion         0.000065  0.000139  0.000278  0.000578  0.001327\n",
              "Binary Insertion  0.000536  0.001178  0.002752  0.006171  0.014224\n",
              "Bubble            0.008752  0.031888  0.128509  0.536348  2.139967\n",
              "Improved Bubble   0.000049  0.000081  0.000159  0.000640  0.000650\n",
              "Cocktail          0.000039  0.000079  0.000164  0.000410  0.000649"
            ]
          },
          "metadata": {},
          "execution_count": 23
        }
      ]
    }
  ]
}